{
 "cells": [
  {
   "cell_type": "markdown",
   "metadata": {},
   "source": [
    "# NBA All Star Prediction"
   ]
  },
  {
   "cell_type": "markdown",
   "metadata": {},
   "source": [
    "### Data Cleanup / Imports / Initialization"
   ]
  },
  {
   "cell_type": "code",
   "execution_count": 1,
   "metadata": {},
   "outputs": [],
   "source": [
    "\n",
    "# data manipulation/visualization\n",
    "import pandas as pd\n",
    "import numpy as np\n",
    "import matplotlib.pyplot as plt\n",
    "import matplotlib\n",
    "import seaborn as sns\n",
    "from sklearn.preprocessing import StandardScaler\n",
    "from sklearn.decomposition import PCA\n",
    "\n",
    "# modelling and blackbox analysis\n",
    "from sklearn.model_selection import train_test_split\n",
    "from imblearn.over_sampling import BorderlineSMOTE\n",
    "from xgboost import XGBClassifier as XGBC\n",
    "import shap\n",
    "from pdpbox import pdp \n",
    "# pdp_plot_utils.py in the pdpbox source code requires a small tweak\n",
    "# (weird conflict with matplotlib)\n",
    "# Fix:\n",
    "# line 251: parameter should be called \"fontsize\", not \"contour_label_fontsize\"\n",
    "#\n",
    "# for more info see: https://github.com/SauceCat/PDPbox/issues/40\n",
    "from scipy.special import expit\n",
    "\n",
    "# classification metrics and utils\n",
    "from sklearn.metrics import roc_auc_score, accuracy_score, precision_score, recall_score, f1_score, log_loss\n",
    "from sklearn.metrics import roc_curve, plot_confusion_matrix\n",
    "\n",
    "# basic utils\n",
    "import os.path\n",
    "import pickle\n",
    "from math import exp\n",
    "\n",
    "from IPython.display import display\n",
    "\n",
    "pd.options.mode.chained_assignment = None  # default='warn'\n",
    "\n",
    "GPU = False\n",
    "tree_method = 'gpu_hist' if GPU else 'auto'\n",
    "\n",
    "# check if this is our first time running the script\n",
    "# if the model exists from a prior execution, we can load the model from memory instead of retraining it from scratch\n",
    "already_trained = os.path.exists('./ASG_predictor.model')\n",
    "\n",
    "# directory to store plots concerning model evaluation and interpretation\n",
    "if not os.path.exists('../Plots'):\n",
    "    os.makedirs('../Plots')\n",
    "\n",
    "# labeled dataset\n",
    "df_train = pd.read_csv('../Data/ASG_train.csv')\n",
    "\n",
    "# current year's dataset (unlabelled)\n",
    "df_to_predict = pd.read_csv('../Data/ASG_to_predict.csv')"
   ]
  },
  {
   "cell_type": "code",
   "execution_count": 2,
   "metadata": {},
   "outputs": [
    {
     "output_type": "execute_result",
     "data": {
      "text/plain": [
       "   Year  Avg. Pace            PLAYER TEAM  Team Conference Rank  GP  Team GP  \\\n",
       "0  1996       90.1    Michael Jordan  CHI                     1  40       40   \n",
       "1  1996       90.1  Shaquille O'Neal  LAL                     3  40       41   \n",
       "2  1996       90.1  Latrell Sprewell  GSW                     7  39       39   \n",
       "3  1996       90.1       Karl Malone  UTA                     4  40       40   \n",
       "4  1996       90.1   Hakeem Olajuwon  HOU                     1  37       41   \n",
       "5  1996       90.1    Mitch Richmond  SAC                     8  40       40   \n",
       "6  1996       90.1         Glen Rice  CHH                     6  37       40   \n",
       "7  1996       90.1     Allen Iverson  PHI                    15  34       39   \n",
       "8  1996       90.1         Vin Baker  MIL                    10  36       39   \n",
       "9  1996       90.1       Gary Payton  SEA                     2  40       40   \n",
       "\n",
       "    W   PTS   REB  ...  BLK  TOV   TS%  3PM  DEFWS  USG%   PIE  \\\n",
       "0  35  30.9   5.8  ...  0.5  1.7  56.4  1.2  0.004  33.6  19.8   \n",
       "1  28  26.2  13.2  ...  3.1  3.1  55.7  0.0  0.003  30.4  18.4   \n",
       "2  16  25.9   4.9  ...  0.8  4.0  57.1  2.2  0.001  28.2  14.5   \n",
       "3  27  25.8  10.8  ...  0.7  3.1  57.6  0.0  0.003  31.5  20.8   \n",
       "4  28  24.1   9.4  ...  2.2  3.7  54.8  0.1  0.003  32.2  16.3   \n",
       "5  16  24.1   3.9  ...  0.3  2.8  56.0  1.8  0.002  28.4  14.3   \n",
       "6  21  24.0   4.2  ...  0.4  2.2  57.8  2.5  0.002  25.4  11.3   \n",
       "7   7  22.8   4.5  ...  0.4  4.9  50.3  2.2  0.000  29.0  10.3   \n",
       "8  18  22.4  10.7  ...  1.4  3.6  56.2  0.2  0.003  26.9  14.2   \n",
       "9  29  22.2   4.4  ...  0.1  2.5  55.1  1.4  0.004  26.0  15.6   \n",
       "\n",
       "   Prior ASG Appearances  AS Last Year?  Selected?  \n",
       "0                     10              1          1  \n",
       "1                      4              1          1  \n",
       "2                      2              0          1  \n",
       "3                      9              1          1  \n",
       "4                     11              1          1  \n",
       "5                      4              1          1  \n",
       "6                      1              1          1  \n",
       "7                      0              0          0  \n",
       "8                      2              1          1  \n",
       "9                      3              1          1  \n",
       "\n",
       "[10 rows x 22 columns]"
      ],
      "text/html": "<div>\n<style scoped>\n    .dataframe tbody tr th:only-of-type {\n        vertical-align: middle;\n    }\n\n    .dataframe tbody tr th {\n        vertical-align: top;\n    }\n\n    .dataframe thead th {\n        text-align: right;\n    }\n</style>\n<table border=\"1\" class=\"dataframe\">\n  <thead>\n    <tr style=\"text-align: right;\">\n      <th></th>\n      <th>Year</th>\n      <th>Avg. Pace</th>\n      <th>PLAYER</th>\n      <th>TEAM</th>\n      <th>Team Conference Rank</th>\n      <th>GP</th>\n      <th>Team GP</th>\n      <th>W</th>\n      <th>PTS</th>\n      <th>REB</th>\n      <th>...</th>\n      <th>BLK</th>\n      <th>TOV</th>\n      <th>TS%</th>\n      <th>3PM</th>\n      <th>DEFWS</th>\n      <th>USG%</th>\n      <th>PIE</th>\n      <th>Prior ASG Appearances</th>\n      <th>AS Last Year?</th>\n      <th>Selected?</th>\n    </tr>\n  </thead>\n  <tbody>\n    <tr>\n      <td>0</td>\n      <td>1996</td>\n      <td>90.1</td>\n      <td>Michael Jordan</td>\n      <td>CHI</td>\n      <td>1</td>\n      <td>40</td>\n      <td>40</td>\n      <td>35</td>\n      <td>30.9</td>\n      <td>5.8</td>\n      <td>...</td>\n      <td>0.5</td>\n      <td>1.7</td>\n      <td>56.4</td>\n      <td>1.2</td>\n      <td>0.004</td>\n      <td>33.6</td>\n      <td>19.8</td>\n      <td>10</td>\n      <td>1</td>\n      <td>1</td>\n    </tr>\n    <tr>\n      <td>1</td>\n      <td>1996</td>\n      <td>90.1</td>\n      <td>Shaquille O'Neal</td>\n      <td>LAL</td>\n      <td>3</td>\n      <td>40</td>\n      <td>41</td>\n      <td>28</td>\n      <td>26.2</td>\n      <td>13.2</td>\n      <td>...</td>\n      <td>3.1</td>\n      <td>3.1</td>\n      <td>55.7</td>\n      <td>0.0</td>\n      <td>0.003</td>\n      <td>30.4</td>\n      <td>18.4</td>\n      <td>4</td>\n      <td>1</td>\n      <td>1</td>\n    </tr>\n    <tr>\n      <td>2</td>\n      <td>1996</td>\n      <td>90.1</td>\n      <td>Latrell Sprewell</td>\n      <td>GSW</td>\n      <td>7</td>\n      <td>39</td>\n      <td>39</td>\n      <td>16</td>\n      <td>25.9</td>\n      <td>4.9</td>\n      <td>...</td>\n      <td>0.8</td>\n      <td>4.0</td>\n      <td>57.1</td>\n      <td>2.2</td>\n      <td>0.001</td>\n      <td>28.2</td>\n      <td>14.5</td>\n      <td>2</td>\n      <td>0</td>\n      <td>1</td>\n    </tr>\n    <tr>\n      <td>3</td>\n      <td>1996</td>\n      <td>90.1</td>\n      <td>Karl Malone</td>\n      <td>UTA</td>\n      <td>4</td>\n      <td>40</td>\n      <td>40</td>\n      <td>27</td>\n      <td>25.8</td>\n      <td>10.8</td>\n      <td>...</td>\n      <td>0.7</td>\n      <td>3.1</td>\n      <td>57.6</td>\n      <td>0.0</td>\n      <td>0.003</td>\n      <td>31.5</td>\n      <td>20.8</td>\n      <td>9</td>\n      <td>1</td>\n      <td>1</td>\n    </tr>\n    <tr>\n      <td>4</td>\n      <td>1996</td>\n      <td>90.1</td>\n      <td>Hakeem Olajuwon</td>\n      <td>HOU</td>\n      <td>1</td>\n      <td>37</td>\n      <td>41</td>\n      <td>28</td>\n      <td>24.1</td>\n      <td>9.4</td>\n      <td>...</td>\n      <td>2.2</td>\n      <td>3.7</td>\n      <td>54.8</td>\n      <td>0.1</td>\n      <td>0.003</td>\n      <td>32.2</td>\n      <td>16.3</td>\n      <td>11</td>\n      <td>1</td>\n      <td>1</td>\n    </tr>\n    <tr>\n      <td>5</td>\n      <td>1996</td>\n      <td>90.1</td>\n      <td>Mitch Richmond</td>\n      <td>SAC</td>\n      <td>8</td>\n      <td>40</td>\n      <td>40</td>\n      <td>16</td>\n      <td>24.1</td>\n      <td>3.9</td>\n      <td>...</td>\n      <td>0.3</td>\n      <td>2.8</td>\n      <td>56.0</td>\n      <td>1.8</td>\n      <td>0.002</td>\n      <td>28.4</td>\n      <td>14.3</td>\n      <td>4</td>\n      <td>1</td>\n      <td>1</td>\n    </tr>\n    <tr>\n      <td>6</td>\n      <td>1996</td>\n      <td>90.1</td>\n      <td>Glen Rice</td>\n      <td>CHH</td>\n      <td>6</td>\n      <td>37</td>\n      <td>40</td>\n      <td>21</td>\n      <td>24.0</td>\n      <td>4.2</td>\n      <td>...</td>\n      <td>0.4</td>\n      <td>2.2</td>\n      <td>57.8</td>\n      <td>2.5</td>\n      <td>0.002</td>\n      <td>25.4</td>\n      <td>11.3</td>\n      <td>1</td>\n      <td>1</td>\n      <td>1</td>\n    </tr>\n    <tr>\n      <td>7</td>\n      <td>1996</td>\n      <td>90.1</td>\n      <td>Allen Iverson</td>\n      <td>PHI</td>\n      <td>15</td>\n      <td>34</td>\n      <td>39</td>\n      <td>7</td>\n      <td>22.8</td>\n      <td>4.5</td>\n      <td>...</td>\n      <td>0.4</td>\n      <td>4.9</td>\n      <td>50.3</td>\n      <td>2.2</td>\n      <td>0.000</td>\n      <td>29.0</td>\n      <td>10.3</td>\n      <td>0</td>\n      <td>0</td>\n      <td>0</td>\n    </tr>\n    <tr>\n      <td>8</td>\n      <td>1996</td>\n      <td>90.1</td>\n      <td>Vin Baker</td>\n      <td>MIL</td>\n      <td>10</td>\n      <td>36</td>\n      <td>39</td>\n      <td>18</td>\n      <td>22.4</td>\n      <td>10.7</td>\n      <td>...</td>\n      <td>1.4</td>\n      <td>3.6</td>\n      <td>56.2</td>\n      <td>0.2</td>\n      <td>0.003</td>\n      <td>26.9</td>\n      <td>14.2</td>\n      <td>2</td>\n      <td>1</td>\n      <td>1</td>\n    </tr>\n    <tr>\n      <td>9</td>\n      <td>1996</td>\n      <td>90.1</td>\n      <td>Gary Payton</td>\n      <td>SEA</td>\n      <td>2</td>\n      <td>40</td>\n      <td>40</td>\n      <td>29</td>\n      <td>22.2</td>\n      <td>4.4</td>\n      <td>...</td>\n      <td>0.1</td>\n      <td>2.5</td>\n      <td>55.1</td>\n      <td>1.4</td>\n      <td>0.004</td>\n      <td>26.0</td>\n      <td>15.6</td>\n      <td>3</td>\n      <td>1</td>\n      <td>1</td>\n    </tr>\n  </tbody>\n</table>\n<p>10 rows × 22 columns</p>\n</div>"
     },
     "metadata": {},
     "execution_count": 2
    }
   ],
   "source": [
    "df_train.head(10)"
   ]
  },
  {
   "cell_type": "code",
   "execution_count": 3,
   "metadata": {},
   "outputs": [
    {
     "output_type": "execute_result",
     "data": {
      "text/plain": [
       "   Year  Avg. Pace              Player Team  Team Conference Rank  GP  \\\n",
       "0  2020       99.5        Aaron Gordon  ORL                    13  19   \n",
       "1  2020       99.5       Aaron Holiday  IND                     4  30   \n",
       "2  2020       99.5       Aaron Nesmith  BOS                     9  17   \n",
       "3  2020       99.5         Abdel Nader  PHO                     4  15   \n",
       "4  2020       99.5         Adam Mokoka  CHI                     7   7   \n",
       "5  2020       99.5          Al Horford  OKC                    12  22   \n",
       "6  2020       99.5     Al-Farouq Aminu  ORL                    13   6   \n",
       "7  2020       99.5          Alec Burks  NYK                     6  21   \n",
       "8  2020       99.5  Aleksej Pokusevski  OKC                    12  17   \n",
       "9  2020       99.5         Alex Caruso  LAL                     3  26   \n",
       "\n",
       "   Team GP   W   PTS  REB  ...  STL  BLK  TOV    TS%  3PM  DEFWS  USG%   PIE  \\\n",
       "0       33  13  13.8  7.2  ...  0.7  0.8  2.8  0.528  1.6    0.7  23.3  10.8   \n",
       "1       30  15   7.4  1.3  ...  0.5  0.1  0.8  0.465  1.1    0.4  19.1   4.3   \n",
       "2       32  15   4.4  2.6  ...  0.2  0.3  0.6  0.557  1.0    0.2  12.2   3.4   \n",
       "3       31  20   6.0  2.1  ...  0.3  0.1  0.6  0.609  0.7    0.2  19.5   8.9   \n",
       "4       31  15   1.6  0.6  ...  0.3  0.1  0.3  0.393  0.1    0.0  16.3   4.0   \n",
       "5       32  13  14.6  6.9  ...  0.9  0.8  1.1  0.541  2.1    0.9  22.5  12.9   \n",
       "6       33  13   3.2  3.5  ...  1.2  0.5  1.3  0.470  0.3    0.2  13.0   7.7   \n",
       "7       33  16  11.6  4.7  ...  0.7  0.2  1.1  0.570  2.1    0.7  19.7  10.2   \n",
       "8       32  13   3.3  3.5  ...  0.5  1.1  1.3  0.301  0.6    0.5  16.9   3.9   \n",
       "9       33  22   5.3  2.5  ...  1.0  0.2  1.2  0.531  0.9    0.9  13.8   8.0   \n",
       "\n",
       "   Prior ASG Appearances  AS Last Year  \n",
       "0                      0             0  \n",
       "1                      0             0  \n",
       "2                      0             0  \n",
       "3                      0             0  \n",
       "4                      0             0  \n",
       "5                      5             0  \n",
       "6                      0             0  \n",
       "7                      0             0  \n",
       "8                      0             0  \n",
       "9                      0             0  \n",
       "\n",
       "[10 rows x 21 columns]"
      ],
      "text/html": "<div>\n<style scoped>\n    .dataframe tbody tr th:only-of-type {\n        vertical-align: middle;\n    }\n\n    .dataframe tbody tr th {\n        vertical-align: top;\n    }\n\n    .dataframe thead th {\n        text-align: right;\n    }\n</style>\n<table border=\"1\" class=\"dataframe\">\n  <thead>\n    <tr style=\"text-align: right;\">\n      <th></th>\n      <th>Year</th>\n      <th>Avg. Pace</th>\n      <th>Player</th>\n      <th>Team</th>\n      <th>Team Conference Rank</th>\n      <th>GP</th>\n      <th>Team GP</th>\n      <th>W</th>\n      <th>PTS</th>\n      <th>REB</th>\n      <th>...</th>\n      <th>STL</th>\n      <th>BLK</th>\n      <th>TOV</th>\n      <th>TS%</th>\n      <th>3PM</th>\n      <th>DEFWS</th>\n      <th>USG%</th>\n      <th>PIE</th>\n      <th>Prior ASG Appearances</th>\n      <th>AS Last Year</th>\n    </tr>\n  </thead>\n  <tbody>\n    <tr>\n      <td>0</td>\n      <td>2020</td>\n      <td>99.5</td>\n      <td>Aaron Gordon</td>\n      <td>ORL</td>\n      <td>13</td>\n      <td>19</td>\n      <td>33</td>\n      <td>13</td>\n      <td>13.8</td>\n      <td>7.2</td>\n      <td>...</td>\n      <td>0.7</td>\n      <td>0.8</td>\n      <td>2.8</td>\n      <td>0.528</td>\n      <td>1.6</td>\n      <td>0.7</td>\n      <td>23.3</td>\n      <td>10.8</td>\n      <td>0</td>\n      <td>0</td>\n    </tr>\n    <tr>\n      <td>1</td>\n      <td>2020</td>\n      <td>99.5</td>\n      <td>Aaron Holiday</td>\n      <td>IND</td>\n      <td>4</td>\n      <td>30</td>\n      <td>30</td>\n      <td>15</td>\n      <td>7.4</td>\n      <td>1.3</td>\n      <td>...</td>\n      <td>0.5</td>\n      <td>0.1</td>\n      <td>0.8</td>\n      <td>0.465</td>\n      <td>1.1</td>\n      <td>0.4</td>\n      <td>19.1</td>\n      <td>4.3</td>\n      <td>0</td>\n      <td>0</td>\n    </tr>\n    <tr>\n      <td>2</td>\n      <td>2020</td>\n      <td>99.5</td>\n      <td>Aaron Nesmith</td>\n      <td>BOS</td>\n      <td>9</td>\n      <td>17</td>\n      <td>32</td>\n      <td>15</td>\n      <td>4.4</td>\n      <td>2.6</td>\n      <td>...</td>\n      <td>0.2</td>\n      <td>0.3</td>\n      <td>0.6</td>\n      <td>0.557</td>\n      <td>1.0</td>\n      <td>0.2</td>\n      <td>12.2</td>\n      <td>3.4</td>\n      <td>0</td>\n      <td>0</td>\n    </tr>\n    <tr>\n      <td>3</td>\n      <td>2020</td>\n      <td>99.5</td>\n      <td>Abdel Nader</td>\n      <td>PHO</td>\n      <td>4</td>\n      <td>15</td>\n      <td>31</td>\n      <td>20</td>\n      <td>6.0</td>\n      <td>2.1</td>\n      <td>...</td>\n      <td>0.3</td>\n      <td>0.1</td>\n      <td>0.6</td>\n      <td>0.609</td>\n      <td>0.7</td>\n      <td>0.2</td>\n      <td>19.5</td>\n      <td>8.9</td>\n      <td>0</td>\n      <td>0</td>\n    </tr>\n    <tr>\n      <td>4</td>\n      <td>2020</td>\n      <td>99.5</td>\n      <td>Adam Mokoka</td>\n      <td>CHI</td>\n      <td>7</td>\n      <td>7</td>\n      <td>31</td>\n      <td>15</td>\n      <td>1.6</td>\n      <td>0.6</td>\n      <td>...</td>\n      <td>0.3</td>\n      <td>0.1</td>\n      <td>0.3</td>\n      <td>0.393</td>\n      <td>0.1</td>\n      <td>0.0</td>\n      <td>16.3</td>\n      <td>4.0</td>\n      <td>0</td>\n      <td>0</td>\n    </tr>\n    <tr>\n      <td>5</td>\n      <td>2020</td>\n      <td>99.5</td>\n      <td>Al Horford</td>\n      <td>OKC</td>\n      <td>12</td>\n      <td>22</td>\n      <td>32</td>\n      <td>13</td>\n      <td>14.6</td>\n      <td>6.9</td>\n      <td>...</td>\n      <td>0.9</td>\n      <td>0.8</td>\n      <td>1.1</td>\n      <td>0.541</td>\n      <td>2.1</td>\n      <td>0.9</td>\n      <td>22.5</td>\n      <td>12.9</td>\n      <td>5</td>\n      <td>0</td>\n    </tr>\n    <tr>\n      <td>6</td>\n      <td>2020</td>\n      <td>99.5</td>\n      <td>Al-Farouq Aminu</td>\n      <td>ORL</td>\n      <td>13</td>\n      <td>6</td>\n      <td>33</td>\n      <td>13</td>\n      <td>3.2</td>\n      <td>3.5</td>\n      <td>...</td>\n      <td>1.2</td>\n      <td>0.5</td>\n      <td>1.3</td>\n      <td>0.470</td>\n      <td>0.3</td>\n      <td>0.2</td>\n      <td>13.0</td>\n      <td>7.7</td>\n      <td>0</td>\n      <td>0</td>\n    </tr>\n    <tr>\n      <td>7</td>\n      <td>2020</td>\n      <td>99.5</td>\n      <td>Alec Burks</td>\n      <td>NYK</td>\n      <td>6</td>\n      <td>21</td>\n      <td>33</td>\n      <td>16</td>\n      <td>11.6</td>\n      <td>4.7</td>\n      <td>...</td>\n      <td>0.7</td>\n      <td>0.2</td>\n      <td>1.1</td>\n      <td>0.570</td>\n      <td>2.1</td>\n      <td>0.7</td>\n      <td>19.7</td>\n      <td>10.2</td>\n      <td>0</td>\n      <td>0</td>\n    </tr>\n    <tr>\n      <td>8</td>\n      <td>2020</td>\n      <td>99.5</td>\n      <td>Aleksej Pokusevski</td>\n      <td>OKC</td>\n      <td>12</td>\n      <td>17</td>\n      <td>32</td>\n      <td>13</td>\n      <td>3.3</td>\n      <td>3.5</td>\n      <td>...</td>\n      <td>0.5</td>\n      <td>1.1</td>\n      <td>1.3</td>\n      <td>0.301</td>\n      <td>0.6</td>\n      <td>0.5</td>\n      <td>16.9</td>\n      <td>3.9</td>\n      <td>0</td>\n      <td>0</td>\n    </tr>\n    <tr>\n      <td>9</td>\n      <td>2020</td>\n      <td>99.5</td>\n      <td>Alex Caruso</td>\n      <td>LAL</td>\n      <td>3</td>\n      <td>26</td>\n      <td>33</td>\n      <td>22</td>\n      <td>5.3</td>\n      <td>2.5</td>\n      <td>...</td>\n      <td>1.0</td>\n      <td>0.2</td>\n      <td>1.2</td>\n      <td>0.531</td>\n      <td>0.9</td>\n      <td>0.9</td>\n      <td>13.8</td>\n      <td>8.0</td>\n      <td>0</td>\n      <td>0</td>\n    </tr>\n  </tbody>\n</table>\n<p>10 rows × 21 columns</p>\n</div>"
     },
     "metadata": {},
     "execution_count": 3
    }
   ],
   "source": [
    "df_to_predict.head(10)"
   ]
  },
  {
   "cell_type": "code",
   "execution_count": 4,
   "metadata": {},
   "outputs": [],
   "source": [
    "# Outlier and Game Adjustment Code taken from: https://github.com/cjporteo/ml-NBA-asg-predictor/\n",
    "\n",
    "# pull out the current season from the df for file naming purposes\n",
    "prediction_year = df_to_predict.loc[0, 'Year'] + 1\n",
    "\n",
    "# save the PLAYER and TEAM columns for later\n",
    "# these features get dropped for the prediction process but we will add them back in later for traceability\n",
    "names_and_teams = df_to_predict[['Player', 'Team']]\n",
    "\n",
    "outliers = set([\n",
    "    ('Dirk Nowitzki', 2018), # A: Dirk's selection in the 2019 ASG was very much a \"respect\" pick - career tribute\n",
    "    ('Kobe Bryant', 2015), # A\n",
    "    ('Kobe Bryant', 2013), # A/B\n",
    "    ('Yao Ming', 2010), # B: China rallying for him despite playing in only 5 out of a possible 44 games (11.3%)\n",
    "    ('Allen Iverson', 2009), # A\n",
    "    ('Allen Iverson', 2008), # A\n",
    "    (\"Shaquille O'Neal\", 2006), # A/B\n",
    "    ('Ray Allen', 2003), # B\n",
    "    ('Jamaal Magloire', 2003), # infamously questionable pick\n",
    "    ('Vince Carter', 2002), # B\n",
    "    ('Grant Hill', 2000), # B\n",
    "    ('Anfernee Hardaway', 1997), #A/B\n",
    "    ('Anfernee Hardaway', 1996) #A/B\n",
    "])\n",
    "\n",
    "# stores the indices of our outliers\n",
    "outlier_indices = []\n",
    "\n",
    "# gather outlier indices\n",
    "def process_outliers(row):\n",
    "    if (row['PLAYER'], row['Year']) in outliers:\n",
    "        outlier_indices.append(row.name)\n",
    "\n",
    "# reject the outliers\n",
    "df_train[['PLAYER', 'Year']].apply(process_outliers, axis=1)\n",
    "df_train.drop(outlier_indices, inplace=True)\n",
    "\n",
    "for df in [df_train, df_to_predict]:\n",
    "    # drop any player who appeared in less than 7 games \n",
    "    df.drop(df[df['GP'] < 7].index, inplace=True)\n",
    "\n",
    "    # the percent of team's games the player played in\n",
    "    df['Play Pct.'] = (df['GP'] / df['Team GP']).map(lambda pct : min(pct, 1))\n",
    "\n",
    "    # nomalized via league average pace for that year\n",
    "    for col in ['PTS', 'REB', 'AST', 'STL', 'BLK', 'TOV', '3PM']:\n",
    "        df['Adjusted ' + col] = df[col] / df['Avg. Pace']\n",
    "\n",
    "# final features used for this model\n",
    "features = [\n",
    "    'Adjusted PTS',\n",
    "    'Adjusted REB',\n",
    "    'Adjusted AST',\n",
    "    'Adjusted STL',\n",
    "    'Adjusted BLK',\n",
    "    'Adjusted TOV',\n",
    "    'Adjusted 3PM',\n",
    "    'DEFWS',\n",
    "    'TS%',\n",
    "    'USG%',\n",
    "    'PIE',\n",
    "    'Play Pct.',\n",
    "    'Team Conference Rank',\n",
    "    'Prior ASG Appearances',\n",
    "    'AS Last Year?'\n",
    "]"
   ]
  },
  {
   "source": [
    "### Exploratory Data Analysis¶\n"
   ],
   "cell_type": "markdown",
   "metadata": {}
  },
  {
   "cell_type": "code",
   "execution_count": 5,
   "metadata": {},
   "outputs": [
    {
     "output_type": "execute_result",
     "data": {
      "text/plain": [
       "       Adjusted PTS  Adjusted REB  Adjusted AST  Adjusted STL  Adjusted BLK  \\\n",
       "count   9185.000000   9185.000000   9185.000000   9185.000000   9185.000000   \n",
       "mean       0.093283      0.040734      0.020493      0.007382      0.004826   \n",
       "std        0.064757      0.027551      0.019777      0.004985      0.005487   \n",
       "min        0.000000      0.000000      0.000000      0.000000      0.000000   \n",
       "25%        0.042599      0.020675      0.006615      0.003330      0.001100   \n",
       "50%        0.077742      0.034079      0.014024      0.006515      0.003222   \n",
       "75%        0.130676      0.053838      0.027203      0.009923      0.006263   \n",
       "max        0.384530      0.183130      0.142237      0.032223      0.048405   \n",
       "\n",
       "       Adjusted TOV  Adjusted 3PM        DEFWS          TS%         USG%  \\\n",
       "count   9185.000000   9185.000000  9185.000000  9185.000000  9185.000000   \n",
       "mean       0.013729      0.006442     0.001681    51.584170    18.262635   \n",
       "std        0.008912      0.007396     0.001247     7.441232     4.985169   \n",
       "min        0.000000      0.000000    -0.003000     0.000000     4.300000   \n",
       "25%        0.006979      0.000000     0.001000    47.900000    14.700000   \n",
       "50%        0.011905      0.004000     0.001000    52.200000    17.800000   \n",
       "75%        0.018681      0.010953     0.002000    56.000000    21.500000   \n",
       "max        0.060166      0.053000     0.014000   105.000000    40.700000   \n",
       "\n",
       "               PIE    Play Pct.  Team Conference Rank  Prior ASG Appearances  \\\n",
       "count  9185.000000  9185.000000           9185.000000            9185.000000   \n",
       "mean      8.628285     0.759407              7.872183               0.494611   \n",
       "std       3.935962     0.249638              4.286073               1.707676   \n",
       "min     -16.700000     0.145833              1.000000               0.000000   \n",
       "25%       6.300000     0.588235              4.000000               0.000000   \n",
       "50%       8.700000     0.853659              8.000000               0.000000   \n",
       "75%      11.000000     0.975610             12.000000               0.000000   \n",
       "max      28.600000     1.000000             15.000000              16.000000   \n",
       "\n",
       "       AS Last Year?    Selected?  \n",
       "count    9185.000000  9185.000000  \n",
       "mean        0.060316     0.063255  \n",
       "std         0.238084     0.243435  \n",
       "min         0.000000     0.000000  \n",
       "25%         0.000000     0.000000  \n",
       "50%         0.000000     0.000000  \n",
       "75%         0.000000     0.000000  \n",
       "max         1.000000     1.000000  "
      ],
      "text/html": "<div>\n<style scoped>\n    .dataframe tbody tr th:only-of-type {\n        vertical-align: middle;\n    }\n\n    .dataframe tbody tr th {\n        vertical-align: top;\n    }\n\n    .dataframe thead th {\n        text-align: right;\n    }\n</style>\n<table border=\"1\" class=\"dataframe\">\n  <thead>\n    <tr style=\"text-align: right;\">\n      <th></th>\n      <th>Adjusted PTS</th>\n      <th>Adjusted REB</th>\n      <th>Adjusted AST</th>\n      <th>Adjusted STL</th>\n      <th>Adjusted BLK</th>\n      <th>Adjusted TOV</th>\n      <th>Adjusted 3PM</th>\n      <th>DEFWS</th>\n      <th>TS%</th>\n      <th>USG%</th>\n      <th>PIE</th>\n      <th>Play Pct.</th>\n      <th>Team Conference Rank</th>\n      <th>Prior ASG Appearances</th>\n      <th>AS Last Year?</th>\n      <th>Selected?</th>\n    </tr>\n  </thead>\n  <tbody>\n    <tr>\n      <td>count</td>\n      <td>9185.000000</td>\n      <td>9185.000000</td>\n      <td>9185.000000</td>\n      <td>9185.000000</td>\n      <td>9185.000000</td>\n      <td>9185.000000</td>\n      <td>9185.000000</td>\n      <td>9185.000000</td>\n      <td>9185.000000</td>\n      <td>9185.000000</td>\n      <td>9185.000000</td>\n      <td>9185.000000</td>\n      <td>9185.000000</td>\n      <td>9185.000000</td>\n      <td>9185.000000</td>\n      <td>9185.000000</td>\n    </tr>\n    <tr>\n      <td>mean</td>\n      <td>0.093283</td>\n      <td>0.040734</td>\n      <td>0.020493</td>\n      <td>0.007382</td>\n      <td>0.004826</td>\n      <td>0.013729</td>\n      <td>0.006442</td>\n      <td>0.001681</td>\n      <td>51.584170</td>\n      <td>18.262635</td>\n      <td>8.628285</td>\n      <td>0.759407</td>\n      <td>7.872183</td>\n      <td>0.494611</td>\n      <td>0.060316</td>\n      <td>0.063255</td>\n    </tr>\n    <tr>\n      <td>std</td>\n      <td>0.064757</td>\n      <td>0.027551</td>\n      <td>0.019777</td>\n      <td>0.004985</td>\n      <td>0.005487</td>\n      <td>0.008912</td>\n      <td>0.007396</td>\n      <td>0.001247</td>\n      <td>7.441232</td>\n      <td>4.985169</td>\n      <td>3.935962</td>\n      <td>0.249638</td>\n      <td>4.286073</td>\n      <td>1.707676</td>\n      <td>0.238084</td>\n      <td>0.243435</td>\n    </tr>\n    <tr>\n      <td>min</td>\n      <td>0.000000</td>\n      <td>0.000000</td>\n      <td>0.000000</td>\n      <td>0.000000</td>\n      <td>0.000000</td>\n      <td>0.000000</td>\n      <td>0.000000</td>\n      <td>-0.003000</td>\n      <td>0.000000</td>\n      <td>4.300000</td>\n      <td>-16.700000</td>\n      <td>0.145833</td>\n      <td>1.000000</td>\n      <td>0.000000</td>\n      <td>0.000000</td>\n      <td>0.000000</td>\n    </tr>\n    <tr>\n      <td>25%</td>\n      <td>0.042599</td>\n      <td>0.020675</td>\n      <td>0.006615</td>\n      <td>0.003330</td>\n      <td>0.001100</td>\n      <td>0.006979</td>\n      <td>0.000000</td>\n      <td>0.001000</td>\n      <td>47.900000</td>\n      <td>14.700000</td>\n      <td>6.300000</td>\n      <td>0.588235</td>\n      <td>4.000000</td>\n      <td>0.000000</td>\n      <td>0.000000</td>\n      <td>0.000000</td>\n    </tr>\n    <tr>\n      <td>50%</td>\n      <td>0.077742</td>\n      <td>0.034079</td>\n      <td>0.014024</td>\n      <td>0.006515</td>\n      <td>0.003222</td>\n      <td>0.011905</td>\n      <td>0.004000</td>\n      <td>0.001000</td>\n      <td>52.200000</td>\n      <td>17.800000</td>\n      <td>8.700000</td>\n      <td>0.853659</td>\n      <td>8.000000</td>\n      <td>0.000000</td>\n      <td>0.000000</td>\n      <td>0.000000</td>\n    </tr>\n    <tr>\n      <td>75%</td>\n      <td>0.130676</td>\n      <td>0.053838</td>\n      <td>0.027203</td>\n      <td>0.009923</td>\n      <td>0.006263</td>\n      <td>0.018681</td>\n      <td>0.010953</td>\n      <td>0.002000</td>\n      <td>56.000000</td>\n      <td>21.500000</td>\n      <td>11.000000</td>\n      <td>0.975610</td>\n      <td>12.000000</td>\n      <td>0.000000</td>\n      <td>0.000000</td>\n      <td>0.000000</td>\n    </tr>\n    <tr>\n      <td>max</td>\n      <td>0.384530</td>\n      <td>0.183130</td>\n      <td>0.142237</td>\n      <td>0.032223</td>\n      <td>0.048405</td>\n      <td>0.060166</td>\n      <td>0.053000</td>\n      <td>0.014000</td>\n      <td>105.000000</td>\n      <td>40.700000</td>\n      <td>28.600000</td>\n      <td>1.000000</td>\n      <td>15.000000</td>\n      <td>16.000000</td>\n      <td>1.000000</td>\n      <td>1.000000</td>\n    </tr>\n  </tbody>\n</table>\n</div>"
     },
     "metadata": {},
     "execution_count": 5
    }
   ],
   "source": [
    "df_train = df_train[features + ['Selected?']]\n",
    "df_train.describe()"
   ]
  },
  {
   "cell_type": "code",
   "execution_count": 6,
   "metadata": {},
   "outputs": [
    {
     "output_type": "execute_result",
     "data": {
      "text/plain": [
       "Adjusted PTS             0\n",
       "Adjusted REB             0\n",
       "Adjusted AST             0\n",
       "Adjusted STL             0\n",
       "Adjusted BLK             0\n",
       "Adjusted TOV             0\n",
       "Adjusted 3PM             0\n",
       "DEFWS                    0\n",
       "TS%                      0\n",
       "USG%                     0\n",
       "PIE                      0\n",
       "Play Pct.                0\n",
       "Team Conference Rank     0\n",
       "Prior ASG Appearances    0\n",
       "AS Last Year?            0\n",
       "Selected?                0\n",
       "dtype: int64"
      ]
     },
     "metadata": {},
     "execution_count": 6
    }
   ],
   "source": [
    "# Handle missing values\n",
    "df_train.isnull().sum()"
   ]
  },
  {
   "cell_type": "code",
   "execution_count": 23,
   "metadata": {},
   "outputs": [
    {
     "output_type": "stream",
     "name": "stdout",
     "text": [
      "0\n"
     ]
    }
   ],
   "source": [
    "# Handle duplicate records\n",
    "dup = df_train.duplicated()\n",
    "print(dup.sum())\n",
    "df_train[dup]\n",
    "df_train.drop_duplicates(inplace=True)"
   ]
  },
  {
   "cell_type": "code",
   "execution_count": 29,
   "metadata": {},
   "outputs": [],
   "source": [
    "%%capture\n",
    "# Scatterplots between each feature and selected\n",
    "import seaborn as sns\n",
    "for feat in features:\n",
    "    plt.ion()\n",
    "    fig, ax = plt.subplots(figsize=(5,5))\n",
    "    sns.catplot(x=\"Selected?\", y=feat, data=df_train)\n",
    "    plt.savefig('../Plots/ScatterPlots/{}-scatterplot.png'.format(feat))"
   ]
  },
  {
   "cell_type": "code",
   "execution_count": 40,
   "metadata": {},
   "outputs": [],
   "source": [
    "%%capture\n",
    "# Heat Map to show correlation between different features\n",
    "import plotly.figure_factory as ff\n",
    "from plotly.offline import iplot\n",
    "corrs=df_train.corr()\n",
    "# Plotting Heatmap to know about Correlation\n",
    "figure=ff.create_annotated_heatmap(z=corrs.values,x=list(corrs.columns),\n",
    "    y=list(corrs.index),\n",
    "    annotation_text=corrs.round(2).values,\n",
    "    showscale=True)\n",
    "figure.layout.margin = dict(l=200, t=200)\n",
    "figure.layout.height = 800\n",
    "figure.layout.width = 1000\n",
    "figure.write_image(file='../Plots/HeatMap/heatMap.png', format='.png')\n",
    "iplot(figure)"
   ]
  },
  {
   "cell_type": "code",
   "execution_count": 31,
   "metadata": {},
   "outputs": [],
   "source": [
    "%%capture\n",
    "# Violin plots to show how each feature contributes to selection\n",
    "for feat in features:\n",
    "    fig, ax = plt.subplots(figsize=(5,5))\n",
    "    sns.violinplot(ax=ax, data=df_train, y=feat, x=[''] * len(df_train), hue='Selected?', split=True)\n",
    "    ax.legend_.set_title('Result')\n",
    "    new_labels = ['Not All-Star', 'All-Star']\n",
    "    for t, l in zip(ax.legend_.texts, new_labels):\n",
    "        t.set_text(l)\n",
    "    feat = feat.replace('?', '').replace('%', '')\n",
    "    plt.savefig('../Plots/ViolinPlots/{}-violinplot.png'.format(feat))\n",
    "    plt.show()"
   ]
  },
  {
   "cell_type": "code",
   "execution_count": null,
   "metadata": {},
   "outputs": [],
   "source": []
  }
 ],
 "metadata": {
  "kernelspec": {
   "display_name": "Python 3",
   "language": "python",
   "name": "python3"
  },
  "language_info": {
   "codemirror_mode": {
    "name": "ipython",
    "version": 3
   },
   "file_extension": ".py",
   "mimetype": "text/x-python",
   "name": "python",
   "nbconvert_exporter": "python",
   "pygments_lexer": "ipython3",
   "version": "3.7.4-final"
  }
 },
 "nbformat": 4,
 "nbformat_minor": 2
}
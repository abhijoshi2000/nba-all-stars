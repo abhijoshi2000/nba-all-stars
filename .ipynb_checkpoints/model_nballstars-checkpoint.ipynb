{
 "cells": [
  {
   "source": [
    "## Predicting NBA All Stars"
   ],
   "cell_type": "markdown",
   "metadata": {}
  },
  {
   "source": [
    "### Data Cleanup / Imports / Initialization"
   ],
   "cell_type": "markdown",
   "metadata": {}
  },
  {
   "cell_type": "code",
   "execution_count": 1,
   "metadata": {},
   "outputs": [],
   "source": [
    "\n",
    "# data manipulation/visualization\n",
    "import pandas as pd\n",
    "import numpy as np\n",
    "import matplotlib.pyplot as plt\n",
    "import matplotlib\n",
    "import seaborn as sns\n",
    "from sklearn.preprocessing import StandardScaler\n",
    "from sklearn.decomposition import PCA\n",
    "\n",
    "# modelling and blackbox analysis\n",
    "from sklearn.model_selection import train_test_split\n",
    "from imblearn.over_sampling import BorderlineSMOTE\n",
    "from xgboost import XGBClassifier as XGBC\n",
    "import shap\n",
    "from pdpbox import pdp \n",
    "# pdp_plot_utils.py in the pdpbox source code requires a small tweak\n",
    "# (weird conflict with matplotlib)\n",
    "# Fix:\n",
    "# line 251: parameter should be called \"fontsize\", not \"contour_label_fontsize\"\n",
    "#\n",
    "# for more info see: https://github.com/SauceCat/PDPbox/issues/40\n",
    "from scipy.special import expit\n",
    "\n",
    "# classification metrics and utils\n",
    "from sklearn.metrics import roc_auc_score, accuracy_score, precision_score, recall_score, f1_score, log_loss\n",
    "from sklearn.metrics import roc_curve, plot_confusion_matrix\n",
    "\n",
    "# basic utils\n",
    "import os.path\n",
    "import pickle\n",
    "from math import exp\n",
    "\n",
    "from IPython.display import display\n",
    "\n",
    "pd.options.mode.chained_assignment = None  # default='warn'\n",
    "\n",
    "GPU = False\n",
    "tree_method = 'gpu_hist' if GPU else 'auto'\n",
    "\n",
    "# check if this is our first time running the script\n",
    "# if the model exists from a prior execution, we can load the model from memory instead of retraining it from scratch\n",
    "already_trained = os.path.exists('./ASG_predictor.model')\n",
    "\n",
    "# directory to store plots concerning model evaluation and interpretation\n",
    "if not os.path.exists('../Plots'):\n",
    "    os.makedirs('../Plots')\n",
    "\n",
    "# labeled dataset\n",
    "df_train = pd.read_csv('../Data/ASG_train.csv')\n",
    "\n",
    "# current year's dataset (unlabelled)\n",
    "df_to_predict = pd.read_csv('../Data/ASG_to_predict.csv')"
   ]
  },
  {
   "cell_type": "code",
   "execution_count": 2,
   "metadata": {},
   "outputs": [
    {
     "output_type": "execute_result",
     "data": {
      "text/plain": [
       "   Year  Avg. Pace            PLAYER TEAM  Team Conference Rank  GP  Team GP  \\\n",
       "0  1996       90.1    Michael Jordan  CHI                     1  40       40   \n",
       "1  1996       90.1  Shaquille O'Neal  LAL                     3  40       41   \n",
       "2  1996       90.1  Latrell Sprewell  GSW                     7  39       39   \n",
       "3  1996       90.1       Karl Malone  UTA                     4  40       40   \n",
       "4  1996       90.1   Hakeem Olajuwon  HOU                     1  37       41   \n",
       "5  1996       90.1    Mitch Richmond  SAC                     8  40       40   \n",
       "6  1996       90.1         Glen Rice  CHH                     6  37       40   \n",
       "7  1996       90.1     Allen Iverson  PHI                    15  34       39   \n",
       "8  1996       90.1         Vin Baker  MIL                    10  36       39   \n",
       "9  1996       90.1       Gary Payton  SEA                     2  40       40   \n",
       "\n",
       "    W   PTS   REB  ...  BLK  TOV   TS%  3PM  DEFWS  USG%   PIE  \\\n",
       "0  35  30.9   5.8  ...  0.5  1.7  56.4  1.2  0.004  33.6  19.8   \n",
       "1  28  26.2  13.2  ...  3.1  3.1  55.7  0.0  0.003  30.4  18.4   \n",
       "2  16  25.9   4.9  ...  0.8  4.0  57.1  2.2  0.001  28.2  14.5   \n",
       "3  27  25.8  10.8  ...  0.7  3.1  57.6  0.0  0.003  31.5  20.8   \n",
       "4  28  24.1   9.4  ...  2.2  3.7  54.8  0.1  0.003  32.2  16.3   \n",
       "5  16  24.1   3.9  ...  0.3  2.8  56.0  1.8  0.002  28.4  14.3   \n",
       "6  21  24.0   4.2  ...  0.4  2.2  57.8  2.5  0.002  25.4  11.3   \n",
       "7   7  22.8   4.5  ...  0.4  4.9  50.3  2.2  0.000  29.0  10.3   \n",
       "8  18  22.4  10.7  ...  1.4  3.6  56.2  0.2  0.003  26.9  14.2   \n",
       "9  29  22.2   4.4  ...  0.1  2.5  55.1  1.4  0.004  26.0  15.6   \n",
       "\n",
       "   Prior ASG Appearances  AS Last Year?  Selected?  \n",
       "0                     10              1          1  \n",
       "1                      4              1          1  \n",
       "2                      2              0          1  \n",
       "3                      9              1          1  \n",
       "4                     11              1          1  \n",
       "5                      4              1          1  \n",
       "6                      1              1          1  \n",
       "7                      0              0          0  \n",
       "8                      2              1          1  \n",
       "9                      3              1          1  \n",
       "\n",
       "[10 rows x 22 columns]"
      ],
      "text/html": "<div>\n<style scoped>\n    .dataframe tbody tr th:only-of-type {\n        vertical-align: middle;\n    }\n\n    .dataframe tbody tr th {\n        vertical-align: top;\n    }\n\n    .dataframe thead th {\n        text-align: right;\n    }\n</style>\n<table border=\"1\" class=\"dataframe\">\n  <thead>\n    <tr style=\"text-align: right;\">\n      <th></th>\n      <th>Year</th>\n      <th>Avg. Pace</th>\n      <th>PLAYER</th>\n      <th>TEAM</th>\n      <th>Team Conference Rank</th>\n      <th>GP</th>\n      <th>Team GP</th>\n      <th>W</th>\n      <th>PTS</th>\n      <th>REB</th>\n      <th>...</th>\n      <th>BLK</th>\n      <th>TOV</th>\n      <th>TS%</th>\n      <th>3PM</th>\n      <th>DEFWS</th>\n      <th>USG%</th>\n      <th>PIE</th>\n      <th>Prior ASG Appearances</th>\n      <th>AS Last Year?</th>\n      <th>Selected?</th>\n    </tr>\n  </thead>\n  <tbody>\n    <tr>\n      <td>0</td>\n      <td>1996</td>\n      <td>90.1</td>\n      <td>Michael Jordan</td>\n      <td>CHI</td>\n      <td>1</td>\n      <td>40</td>\n      <td>40</td>\n      <td>35</td>\n      <td>30.9</td>\n      <td>5.8</td>\n      <td>...</td>\n      <td>0.5</td>\n      <td>1.7</td>\n      <td>56.4</td>\n      <td>1.2</td>\n      <td>0.004</td>\n      <td>33.6</td>\n      <td>19.8</td>\n      <td>10</td>\n      <td>1</td>\n      <td>1</td>\n    </tr>\n    <tr>\n      <td>1</td>\n      <td>1996</td>\n      <td>90.1</td>\n      <td>Shaquille O'Neal</td>\n      <td>LAL</td>\n      <td>3</td>\n      <td>40</td>\n      <td>41</td>\n      <td>28</td>\n      <td>26.2</td>\n      <td>13.2</td>\n      <td>...</td>\n      <td>3.1</td>\n      <td>3.1</td>\n      <td>55.7</td>\n      <td>0.0</td>\n      <td>0.003</td>\n      <td>30.4</td>\n      <td>18.4</td>\n      <td>4</td>\n      <td>1</td>\n      <td>1</td>\n    </tr>\n    <tr>\n      <td>2</td>\n      <td>1996</td>\n      <td>90.1</td>\n      <td>Latrell Sprewell</td>\n      <td>GSW</td>\n      <td>7</td>\n      <td>39</td>\n      <td>39</td>\n      <td>16</td>\n      <td>25.9</td>\n      <td>4.9</td>\n      <td>...</td>\n      <td>0.8</td>\n      <td>4.0</td>\n      <td>57.1</td>\n      <td>2.2</td>\n      <td>0.001</td>\n      <td>28.2</td>\n      <td>14.5</td>\n      <td>2</td>\n      <td>0</td>\n      <td>1</td>\n    </tr>\n    <tr>\n      <td>3</td>\n      <td>1996</td>\n      <td>90.1</td>\n      <td>Karl Malone</td>\n      <td>UTA</td>\n      <td>4</td>\n      <td>40</td>\n      <td>40</td>\n      <td>27</td>\n      <td>25.8</td>\n      <td>10.8</td>\n      <td>...</td>\n      <td>0.7</td>\n      <td>3.1</td>\n      <td>57.6</td>\n      <td>0.0</td>\n      <td>0.003</td>\n      <td>31.5</td>\n      <td>20.8</td>\n      <td>9</td>\n      <td>1</td>\n      <td>1</td>\n    </tr>\n    <tr>\n      <td>4</td>\n      <td>1996</td>\n      <td>90.1</td>\n      <td>Hakeem Olajuwon</td>\n      <td>HOU</td>\n      <td>1</td>\n      <td>37</td>\n      <td>41</td>\n      <td>28</td>\n      <td>24.1</td>\n      <td>9.4</td>\n      <td>...</td>\n      <td>2.2</td>\n      <td>3.7</td>\n      <td>54.8</td>\n      <td>0.1</td>\n      <td>0.003</td>\n      <td>32.2</td>\n      <td>16.3</td>\n      <td>11</td>\n      <td>1</td>\n      <td>1</td>\n    </tr>\n    <tr>\n      <td>5</td>\n      <td>1996</td>\n      <td>90.1</td>\n      <td>Mitch Richmond</td>\n      <td>SAC</td>\n      <td>8</td>\n      <td>40</td>\n      <td>40</td>\n      <td>16</td>\n      <td>24.1</td>\n      <td>3.9</td>\n      <td>...</td>\n      <td>0.3</td>\n      <td>2.8</td>\n      <td>56.0</td>\n      <td>1.8</td>\n      <td>0.002</td>\n      <td>28.4</td>\n      <td>14.3</td>\n      <td>4</td>\n      <td>1</td>\n      <td>1</td>\n    </tr>\n    <tr>\n      <td>6</td>\n      <td>1996</td>\n      <td>90.1</td>\n      <td>Glen Rice</td>\n      <td>CHH</td>\n      <td>6</td>\n      <td>37</td>\n      <td>40</td>\n      <td>21</td>\n      <td>24.0</td>\n      <td>4.2</td>\n      <td>...</td>\n      <td>0.4</td>\n      <td>2.2</td>\n      <td>57.8</td>\n      <td>2.5</td>\n      <td>0.002</td>\n      <td>25.4</td>\n      <td>11.3</td>\n      <td>1</td>\n      <td>1</td>\n      <td>1</td>\n    </tr>\n    <tr>\n      <td>7</td>\n      <td>1996</td>\n      <td>90.1</td>\n      <td>Allen Iverson</td>\n      <td>PHI</td>\n      <td>15</td>\n      <td>34</td>\n      <td>39</td>\n      <td>7</td>\n      <td>22.8</td>\n      <td>4.5</td>\n      <td>...</td>\n      <td>0.4</td>\n      <td>4.9</td>\n      <td>50.3</td>\n      <td>2.2</td>\n      <td>0.000</td>\n      <td>29.0</td>\n      <td>10.3</td>\n      <td>0</td>\n      <td>0</td>\n      <td>0</td>\n    </tr>\n    <tr>\n      <td>8</td>\n      <td>1996</td>\n      <td>90.1</td>\n      <td>Vin Baker</td>\n      <td>MIL</td>\n      <td>10</td>\n      <td>36</td>\n      <td>39</td>\n      <td>18</td>\n      <td>22.4</td>\n      <td>10.7</td>\n      <td>...</td>\n      <td>1.4</td>\n      <td>3.6</td>\n      <td>56.2</td>\n      <td>0.2</td>\n      <td>0.003</td>\n      <td>26.9</td>\n      <td>14.2</td>\n      <td>2</td>\n      <td>1</td>\n      <td>1</td>\n    </tr>\n    <tr>\n      <td>9</td>\n      <td>1996</td>\n      <td>90.1</td>\n      <td>Gary Payton</td>\n      <td>SEA</td>\n      <td>2</td>\n      <td>40</td>\n      <td>40</td>\n      <td>29</td>\n      <td>22.2</td>\n      <td>4.4</td>\n      <td>...</td>\n      <td>0.1</td>\n      <td>2.5</td>\n      <td>55.1</td>\n      <td>1.4</td>\n      <td>0.004</td>\n      <td>26.0</td>\n      <td>15.6</td>\n      <td>3</td>\n      <td>1</td>\n      <td>1</td>\n    </tr>\n  </tbody>\n</table>\n<p>10 rows × 22 columns</p>\n</div>"
     },
     "metadata": {},
     "execution_count": 2
    }
   ],
   "source": [
    "df_train.head(10)"
   ]
  },
  {
   "cell_type": "code",
   "execution_count": 3,
   "metadata": {},
   "outputs": [
    {
     "output_type": "execute_result",
     "data": {
      "text/plain": [
       "   Year  Avg. Pace              Player Team  Team Conference Rank  GP  \\\n",
       "0  2020       99.5        Aaron Gordon  ORL                    13  19   \n",
       "1  2020       99.5       Aaron Holiday  IND                     4  30   \n",
       "2  2020       99.5       Aaron Nesmith  BOS                     9  17   \n",
       "3  2020       99.5         Abdel Nader  PHO                     4  15   \n",
       "4  2020       99.5         Adam Mokoka  CHI                     7   7   \n",
       "5  2020       99.5          Al Horford  OKC                    12  22   \n",
       "6  2020       99.5     Al-Farouq Aminu  ORL                    13   6   \n",
       "7  2020       99.5          Alec Burks  NYK                     6  21   \n",
       "8  2020       99.5  Aleksej Pokusevski  OKC                    12  17   \n",
       "9  2020       99.5         Alex Caruso  LAL                     3  26   \n",
       "\n",
       "   Team GP   W   PTS  REB  ...  STL  BLK  TOV    TS%  3PM  DEFWS  USG%   PIE  \\\n",
       "0       33  13  13.8  7.2  ...  0.7  0.8  2.8  0.528  1.6    0.7  23.3  10.8   \n",
       "1       30  15   7.4  1.3  ...  0.5  0.1  0.8  0.465  1.1    0.4  19.1   4.3   \n",
       "2       32  15   4.4  2.6  ...  0.2  0.3  0.6  0.557  1.0    0.2  12.2   3.4   \n",
       "3       31  20   6.0  2.1  ...  0.3  0.1  0.6  0.609  0.7    0.2  19.5   8.9   \n",
       "4       31  15   1.6  0.6  ...  0.3  0.1  0.3  0.393  0.1    0.0  16.3   4.0   \n",
       "5       32  13  14.6  6.9  ...  0.9  0.8  1.1  0.541  2.1    0.9  22.5  12.9   \n",
       "6       33  13   3.2  3.5  ...  1.2  0.5  1.3  0.470  0.3    0.2  13.0   7.7   \n",
       "7       33  16  11.6  4.7  ...  0.7  0.2  1.1  0.570  2.1    0.7  19.7  10.2   \n",
       "8       32  13   3.3  3.5  ...  0.5  1.1  1.3  0.301  0.6    0.5  16.9   3.9   \n",
       "9       33  22   5.3  2.5  ...  1.0  0.2  1.2  0.531  0.9    0.9  13.8   8.0   \n",
       "\n",
       "   Prior ASG Appearances  AS Last Year  \n",
       "0                      0             0  \n",
       "1                      0             0  \n",
       "2                      0             0  \n",
       "3                      0             0  \n",
       "4                      0             0  \n",
       "5                      5             0  \n",
       "6                      0             0  \n",
       "7                      0             0  \n",
       "8                      0             0  \n",
       "9                      0             0  \n",
       "\n",
       "[10 rows x 21 columns]"
      ],
      "text/html": "<div>\n<style scoped>\n    .dataframe tbody tr th:only-of-type {\n        vertical-align: middle;\n    }\n\n    .dataframe tbody tr th {\n        vertical-align: top;\n    }\n\n    .dataframe thead th {\n        text-align: right;\n    }\n</style>\n<table border=\"1\" class=\"dataframe\">\n  <thead>\n    <tr style=\"text-align: right;\">\n      <th></th>\n      <th>Year</th>\n      <th>Avg. Pace</th>\n      <th>Player</th>\n      <th>Team</th>\n      <th>Team Conference Rank</th>\n      <th>GP</th>\n      <th>Team GP</th>\n      <th>W</th>\n      <th>PTS</th>\n      <th>REB</th>\n      <th>...</th>\n      <th>STL</th>\n      <th>BLK</th>\n      <th>TOV</th>\n      <th>TS%</th>\n      <th>3PM</th>\n      <th>DEFWS</th>\n      <th>USG%</th>\n      <th>PIE</th>\n      <th>Prior ASG Appearances</th>\n      <th>AS Last Year</th>\n    </tr>\n  </thead>\n  <tbody>\n    <tr>\n      <td>0</td>\n      <td>2020</td>\n      <td>99.5</td>\n      <td>Aaron Gordon</td>\n      <td>ORL</td>\n      <td>13</td>\n      <td>19</td>\n      <td>33</td>\n      <td>13</td>\n      <td>13.8</td>\n      <td>7.2</td>\n      <td>...</td>\n      <td>0.7</td>\n      <td>0.8</td>\n      <td>2.8</td>\n      <td>0.528</td>\n      <td>1.6</td>\n      <td>0.7</td>\n      <td>23.3</td>\n      <td>10.8</td>\n      <td>0</td>\n      <td>0</td>\n    </tr>\n    <tr>\n      <td>1</td>\n      <td>2020</td>\n      <td>99.5</td>\n      <td>Aaron Holiday</td>\n      <td>IND</td>\n      <td>4</td>\n      <td>30</td>\n      <td>30</td>\n      <td>15</td>\n      <td>7.4</td>\n      <td>1.3</td>\n      <td>...</td>\n      <td>0.5</td>\n      <td>0.1</td>\n      <td>0.8</td>\n      <td>0.465</td>\n      <td>1.1</td>\n      <td>0.4</td>\n      <td>19.1</td>\n      <td>4.3</td>\n      <td>0</td>\n      <td>0</td>\n    </tr>\n    <tr>\n      <td>2</td>\n      <td>2020</td>\n      <td>99.5</td>\n      <td>Aaron Nesmith</td>\n      <td>BOS</td>\n      <td>9</td>\n      <td>17</td>\n      <td>32</td>\n      <td>15</td>\n      <td>4.4</td>\n      <td>2.6</td>\n      <td>...</td>\n      <td>0.2</td>\n      <td>0.3</td>\n      <td>0.6</td>\n      <td>0.557</td>\n      <td>1.0</td>\n      <td>0.2</td>\n      <td>12.2</td>\n      <td>3.4</td>\n      <td>0</td>\n      <td>0</td>\n    </tr>\n    <tr>\n      <td>3</td>\n      <td>2020</td>\n      <td>99.5</td>\n      <td>Abdel Nader</td>\n      <td>PHO</td>\n      <td>4</td>\n      <td>15</td>\n      <td>31</td>\n      <td>20</td>\n      <td>6.0</td>\n      <td>2.1</td>\n      <td>...</td>\n      <td>0.3</td>\n      <td>0.1</td>\n      <td>0.6</td>\n      <td>0.609</td>\n      <td>0.7</td>\n      <td>0.2</td>\n      <td>19.5</td>\n      <td>8.9</td>\n      <td>0</td>\n      <td>0</td>\n    </tr>\n    <tr>\n      <td>4</td>\n      <td>2020</td>\n      <td>99.5</td>\n      <td>Adam Mokoka</td>\n      <td>CHI</td>\n      <td>7</td>\n      <td>7</td>\n      <td>31</td>\n      <td>15</td>\n      <td>1.6</td>\n      <td>0.6</td>\n      <td>...</td>\n      <td>0.3</td>\n      <td>0.1</td>\n      <td>0.3</td>\n      <td>0.393</td>\n      <td>0.1</td>\n      <td>0.0</td>\n      <td>16.3</td>\n      <td>4.0</td>\n      <td>0</td>\n      <td>0</td>\n    </tr>\n    <tr>\n      <td>5</td>\n      <td>2020</td>\n      <td>99.5</td>\n      <td>Al Horford</td>\n      <td>OKC</td>\n      <td>12</td>\n      <td>22</td>\n      <td>32</td>\n      <td>13</td>\n      <td>14.6</td>\n      <td>6.9</td>\n      <td>...</td>\n      <td>0.9</td>\n      <td>0.8</td>\n      <td>1.1</td>\n      <td>0.541</td>\n      <td>2.1</td>\n      <td>0.9</td>\n      <td>22.5</td>\n      <td>12.9</td>\n      <td>5</td>\n      <td>0</td>\n    </tr>\n    <tr>\n      <td>6</td>\n      <td>2020</td>\n      <td>99.5</td>\n      <td>Al-Farouq Aminu</td>\n      <td>ORL</td>\n      <td>13</td>\n      <td>6</td>\n      <td>33</td>\n      <td>13</td>\n      <td>3.2</td>\n      <td>3.5</td>\n      <td>...</td>\n      <td>1.2</td>\n      <td>0.5</td>\n      <td>1.3</td>\n      <td>0.470</td>\n      <td>0.3</td>\n      <td>0.2</td>\n      <td>13.0</td>\n      <td>7.7</td>\n      <td>0</td>\n      <td>0</td>\n    </tr>\n    <tr>\n      <td>7</td>\n      <td>2020</td>\n      <td>99.5</td>\n      <td>Alec Burks</td>\n      <td>NYK</td>\n      <td>6</td>\n      <td>21</td>\n      <td>33</td>\n      <td>16</td>\n      <td>11.6</td>\n      <td>4.7</td>\n      <td>...</td>\n      <td>0.7</td>\n      <td>0.2</td>\n      <td>1.1</td>\n      <td>0.570</td>\n      <td>2.1</td>\n      <td>0.7</td>\n      <td>19.7</td>\n      <td>10.2</td>\n      <td>0</td>\n      <td>0</td>\n    </tr>\n    <tr>\n      <td>8</td>\n      <td>2020</td>\n      <td>99.5</td>\n      <td>Aleksej Pokusevski</td>\n      <td>OKC</td>\n      <td>12</td>\n      <td>17</td>\n      <td>32</td>\n      <td>13</td>\n      <td>3.3</td>\n      <td>3.5</td>\n      <td>...</td>\n      <td>0.5</td>\n      <td>1.1</td>\n      <td>1.3</td>\n      <td>0.301</td>\n      <td>0.6</td>\n      <td>0.5</td>\n      <td>16.9</td>\n      <td>3.9</td>\n      <td>0</td>\n      <td>0</td>\n    </tr>\n    <tr>\n      <td>9</td>\n      <td>2020</td>\n      <td>99.5</td>\n      <td>Alex Caruso</td>\n      <td>LAL</td>\n      <td>3</td>\n      <td>26</td>\n      <td>33</td>\n      <td>22</td>\n      <td>5.3</td>\n      <td>2.5</td>\n      <td>...</td>\n      <td>1.0</td>\n      <td>0.2</td>\n      <td>1.2</td>\n      <td>0.531</td>\n      <td>0.9</td>\n      <td>0.9</td>\n      <td>13.8</td>\n      <td>8.0</td>\n      <td>0</td>\n      <td>0</td>\n    </tr>\n  </tbody>\n</table>\n<p>10 rows × 21 columns</p>\n</div>"
     },
     "metadata": {},
     "execution_count": 3
    }
   ],
   "source": [
    "df_to_predict.head(10)"
   ]
  },
  {
   "cell_type": "code",
   "execution_count": 4,
   "metadata": {},
   "outputs": [],
   "source": [
    "# Outlier and Game Adjustment Code taken from: https://github.com/cjporteo/ml-NBA-asg-predictor/\n",
    "\n",
    "# pull out the current season from the df for file naming purposes\n",
    "prediction_year = df_to_predict.loc[0, 'Year'] + 1\n",
    "\n",
    "# save the PLAYER and TEAM columns for later\n",
    "# these features get dropped for the prediction process but we will add them back in later for traceability\n",
    "names_and_teams = df_to_predict[['Player', 'Team']]\n",
    "\n",
    "outliers = set([\n",
    "    ('Dirk Nowitzki', 2018), # A: Dirk's selection in the 2019 ASG was very much a \"respect\" pick - career tribute\n",
    "    ('Kobe Bryant', 2015), # A\n",
    "    ('Kobe Bryant', 2013), # A/B\n",
    "    ('Yao Ming', 2010), # B: China rallying for him despite playing in only 5 out of a possible 44 games (11.3%)\n",
    "    ('Allen Iverson', 2009), # A\n",
    "    ('Allen Iverson', 2008), # A\n",
    "    (\"Shaquille O'Neal\", 2006), # A/B\n",
    "    ('Ray Allen', 2003), # B\n",
    "    ('Jamaal Magloire', 2003), # infamously questionable pick\n",
    "    ('Vince Carter', 2002), # B\n",
    "    ('Grant Hill', 2000), # B\n",
    "    ('Anfernee Hardaway', 1997), #A/B\n",
    "    ('Anfernee Hardaway', 1996) #A/B\n",
    "])\n",
    "\n",
    "# stores the indices of our outliers\n",
    "outlier_indices = []\n",
    "\n",
    "# gather outlier indices\n",
    "def process_outliers(row):\n",
    "    if (row['PLAYER'], row['Year']) in outliers:\n",
    "        outlier_indices.append(row.name)\n",
    "\n",
    "# reject the outliers\n",
    "df_train[['PLAYER', 'Year']].apply(process_outliers, axis=1)\n",
    "df_train.drop(outlier_indices, inplace=True)\n",
    "\n",
    "for df in [df_train, df_to_predict]:\n",
    "    # drop any player who appeared in less than 7 games \n",
    "    df.drop(df[df['GP'] < 7].index, inplace=True)\n",
    "\n",
    "    # the percent of team's games the player played in\n",
    "    df['Play Pct.'] = (df['GP'] / df['Team GP']).map(lambda pct : min(pct, 1))\n",
    "\n",
    "    # nomalized via league average pace for that year\n",
    "    for col in ['PTS', 'REB', 'AST', 'STL', 'BLK', 'TOV', '3PM']:\n",
    "        df['Adjusted ' + col] = df[col] / df['Avg. Pace']\n",
    "\n",
    "# final features used for this model\n",
    "features = [\n",
    "    'Adjusted PTS',\n",
    "    'Adjusted REB',\n",
    "    'Adjusted AST',\n",
    "    'Adjusted STL',\n",
    "    'Adjusted BLK',\n",
    "    'Adjusted TOV',\n",
    "    'Adjusted 3PM',\n",
    "    'DEFWS',\n",
    "    'TS%',\n",
    "    'USG%',\n",
    "    'PIE',\n",
    "    'Play Pct.',\n",
    "    'Team Conference Rank',\n",
    "    'Prior ASG Appearances',\n",
    "    'AS Last Year?'\n",
    "]"
   ]
  },
  {
   "source": [
    "### Exploratory Data Analysis"
   ],
   "cell_type": "markdown",
   "metadata": {}
  },
  {
   "source": [
    "df_train = df_train[features + ['Selected?']]\n",
    "df_train.describe()"
   ],
   "cell_type": "code",
   "metadata": {},
   "execution_count": 5,
   "outputs": [
    {
     "output_type": "execute_result",
     "data": {
      "text/plain": [
       "       Adjusted PTS  Adjusted REB  Adjusted AST  Adjusted STL  Adjusted BLK  \\\n",
       "count   9185.000000   9185.000000   9185.000000   9185.000000   9185.000000   \n",
       "mean       0.093283      0.040734      0.020493      0.007382      0.004826   \n",
       "std        0.064757      0.027551      0.019777      0.004985      0.005487   \n",
       "min        0.000000      0.000000      0.000000      0.000000      0.000000   \n",
       "25%        0.042599      0.020675      0.006615      0.003330      0.001100   \n",
       "50%        0.077742      0.034079      0.014024      0.006515      0.003222   \n",
       "75%        0.130676      0.053838      0.027203      0.009923      0.006263   \n",
       "max        0.384530      0.183130      0.142237      0.032223      0.048405   \n",
       "\n",
       "       Adjusted TOV  Adjusted 3PM        DEFWS          TS%         USG%  \\\n",
       "count   9185.000000   9185.000000  9185.000000  9185.000000  9185.000000   \n",
       "mean       0.013729      0.006442     0.001681    51.584170    18.262635   \n",
       "std        0.008912      0.007396     0.001247     7.441232     4.985169   \n",
       "min        0.000000      0.000000    -0.003000     0.000000     4.300000   \n",
       "25%        0.006979      0.000000     0.001000    47.900000    14.700000   \n",
       "50%        0.011905      0.004000     0.001000    52.200000    17.800000   \n",
       "75%        0.018681      0.010953     0.002000    56.000000    21.500000   \n",
       "max        0.060166      0.053000     0.014000   105.000000    40.700000   \n",
       "\n",
       "               PIE    Play Pct.  Team Conference Rank  Prior ASG Appearances  \\\n",
       "count  9185.000000  9185.000000           9185.000000            9185.000000   \n",
       "mean      8.628285     0.759407              7.872183               0.494611   \n",
       "std       3.935962     0.249638              4.286073               1.707676   \n",
       "min     -16.700000     0.145833              1.000000               0.000000   \n",
       "25%       6.300000     0.588235              4.000000               0.000000   \n",
       "50%       8.700000     0.853659              8.000000               0.000000   \n",
       "75%      11.000000     0.975610             12.000000               0.000000   \n",
       "max      28.600000     1.000000             15.000000              16.000000   \n",
       "\n",
       "       AS Last Year?    Selected?  \n",
       "count    9185.000000  9185.000000  \n",
       "mean        0.060316     0.063255  \n",
       "std         0.238084     0.243435  \n",
       "min         0.000000     0.000000  \n",
       "25%         0.000000     0.000000  \n",
       "50%         0.000000     0.000000  \n",
       "75%         0.000000     0.000000  \n",
       "max         1.000000     1.000000  "
      ],
      "text/html": "<div>\n<style scoped>\n    .dataframe tbody tr th:only-of-type {\n        vertical-align: middle;\n    }\n\n    .dataframe tbody tr th {\n        vertical-align: top;\n    }\n\n    .dataframe thead th {\n        text-align: right;\n    }\n</style>\n<table border=\"1\" class=\"dataframe\">\n  <thead>\n    <tr style=\"text-align: right;\">\n      <th></th>\n      <th>Adjusted PTS</th>\n      <th>Adjusted REB</th>\n      <th>Adjusted AST</th>\n      <th>Adjusted STL</th>\n      <th>Adjusted BLK</th>\n      <th>Adjusted TOV</th>\n      <th>Adjusted 3PM</th>\n      <th>DEFWS</th>\n      <th>TS%</th>\n      <th>USG%</th>\n      <th>PIE</th>\n      <th>Play Pct.</th>\n      <th>Team Conference Rank</th>\n      <th>Prior ASG Appearances</th>\n      <th>AS Last Year?</th>\n      <th>Selected?</th>\n    </tr>\n  </thead>\n  <tbody>\n    <tr>\n      <td>count</td>\n      <td>9185.000000</td>\n      <td>9185.000000</td>\n      <td>9185.000000</td>\n      <td>9185.000000</td>\n      <td>9185.000000</td>\n      <td>9185.000000</td>\n      <td>9185.000000</td>\n      <td>9185.000000</td>\n      <td>9185.000000</td>\n      <td>9185.000000</td>\n      <td>9185.000000</td>\n      <td>9185.000000</td>\n      <td>9185.000000</td>\n      <td>9185.000000</td>\n      <td>9185.000000</td>\n      <td>9185.000000</td>\n    </tr>\n    <tr>\n      <td>mean</td>\n      <td>0.093283</td>\n      <td>0.040734</td>\n      <td>0.020493</td>\n      <td>0.007382</td>\n      <td>0.004826</td>\n      <td>0.013729</td>\n      <td>0.006442</td>\n      <td>0.001681</td>\n      <td>51.584170</td>\n      <td>18.262635</td>\n      <td>8.628285</td>\n      <td>0.759407</td>\n      <td>7.872183</td>\n      <td>0.494611</td>\n      <td>0.060316</td>\n      <td>0.063255</td>\n    </tr>\n    <tr>\n      <td>std</td>\n      <td>0.064757</td>\n      <td>0.027551</td>\n      <td>0.019777</td>\n      <td>0.004985</td>\n      <td>0.005487</td>\n      <td>0.008912</td>\n      <td>0.007396</td>\n      <td>0.001247</td>\n      <td>7.441232</td>\n      <td>4.985169</td>\n      <td>3.935962</td>\n      <td>0.249638</td>\n      <td>4.286073</td>\n      <td>1.707676</td>\n      <td>0.238084</td>\n      <td>0.243435</td>\n    </tr>\n    <tr>\n      <td>min</td>\n      <td>0.000000</td>\n      <td>0.000000</td>\n      <td>0.000000</td>\n      <td>0.000000</td>\n      <td>0.000000</td>\n      <td>0.000000</td>\n      <td>0.000000</td>\n      <td>-0.003000</td>\n      <td>0.000000</td>\n      <td>4.300000</td>\n      <td>-16.700000</td>\n      <td>0.145833</td>\n      <td>1.000000</td>\n      <td>0.000000</td>\n      <td>0.000000</td>\n      <td>0.000000</td>\n    </tr>\n    <tr>\n      <td>25%</td>\n      <td>0.042599</td>\n      <td>0.020675</td>\n      <td>0.006615</td>\n      <td>0.003330</td>\n      <td>0.001100</td>\n      <td>0.006979</td>\n      <td>0.000000</td>\n      <td>0.001000</td>\n      <td>47.900000</td>\n      <td>14.700000</td>\n      <td>6.300000</td>\n      <td>0.588235</td>\n      <td>4.000000</td>\n      <td>0.000000</td>\n      <td>0.000000</td>\n      <td>0.000000</td>\n    </tr>\n    <tr>\n      <td>50%</td>\n      <td>0.077742</td>\n      <td>0.034079</td>\n      <td>0.014024</td>\n      <td>0.006515</td>\n      <td>0.003222</td>\n      <td>0.011905</td>\n      <td>0.004000</td>\n      <td>0.001000</td>\n      <td>52.200000</td>\n      <td>17.800000</td>\n      <td>8.700000</td>\n      <td>0.853659</td>\n      <td>8.000000</td>\n      <td>0.000000</td>\n      <td>0.000000</td>\n      <td>0.000000</td>\n    </tr>\n    <tr>\n      <td>75%</td>\n      <td>0.130676</td>\n      <td>0.053838</td>\n      <td>0.027203</td>\n      <td>0.009923</td>\n      <td>0.006263</td>\n      <td>0.018681</td>\n      <td>0.010953</td>\n      <td>0.002000</td>\n      <td>56.000000</td>\n      <td>21.500000</td>\n      <td>11.000000</td>\n      <td>0.975610</td>\n      <td>12.000000</td>\n      <td>0.000000</td>\n      <td>0.000000</td>\n      <td>0.000000</td>\n    </tr>\n    <tr>\n      <td>max</td>\n      <td>0.384530</td>\n      <td>0.183130</td>\n      <td>0.142237</td>\n      <td>0.032223</td>\n      <td>0.048405</td>\n      <td>0.060166</td>\n      <td>0.053000</td>\n      <td>0.014000</td>\n      <td>105.000000</td>\n      <td>40.700000</td>\n      <td>28.600000</td>\n      <td>1.000000</td>\n      <td>15.000000</td>\n      <td>16.000000</td>\n      <td>1.000000</td>\n      <td>1.000000</td>\n    </tr>\n  </tbody>\n</table>\n</div>"
     },
     "metadata": {},
     "execution_count": 5
    }
   ]
  },
  {
   "cell_type": "code",
   "execution_count": 6,
   "metadata": {},
   "outputs": [
    {
     "output_type": "execute_result",
     "data": {
      "text/plain": [
       "Adjusted PTS             0\n",
       "Adjusted REB             0\n",
       "Adjusted AST             0\n",
       "Adjusted STL             0\n",
       "Adjusted BLK             0\n",
       "Adjusted TOV             0\n",
       "Adjusted 3PM             0\n",
       "DEFWS                    0\n",
       "TS%                      0\n",
       "USG%                     0\n",
       "PIE                      0\n",
       "Play Pct.                0\n",
       "Team Conference Rank     0\n",
       "Prior ASG Appearances    0\n",
       "AS Last Year?            0\n",
       "Selected?                0\n",
       "dtype: int64"
      ]
     },
     "metadata": {},
     "execution_count": 6
    }
   ],
   "source": [
    "# Handle missing values\n",
    "df_train.isnull().sum()"
   ]
  },
  {
   "cell_type": "code",
   "execution_count": 7,
   "metadata": {},
   "outputs": [
    {
     "output_type": "stream",
     "name": "stdout",
     "text": [
      "2\n"
     ]
    }
   ],
   "source": [
    "# Handle duplicate records\n",
    "dup = df_train.duplicated()\n",
    "print(dup.sum())\n",
    "df_train[dup]\n",
    "df_train.drop_duplicates(inplace=True)"
   ]
  },
  {
   "cell_type": "code",
   "execution_count": 8,
   "metadata": {},
   "outputs": [
    {
     "output_type": "display_data",
     "data": {
      "application/vnd.plotly.v1+json": {
       "config": {
        "linkText": "Export to plot.ly",
        "plotlyServerURL": "https://plot.ly",
        "showLink": false
       },
       "data": [
        {
         "colorscale": [
          [
           0,
           "#0d0887"
          ],
          [
           0.1111111111111111,
           "#46039f"
          ],
          [
           0.2222222222222222,
           "#7201a8"
          ],
          [
           0.3333333333333333,
           "#9c179e"
          ],
          [
           0.4444444444444444,
           "#bd3786"
          ],
          [
           0.5555555555555556,
           "#d8576b"
          ],
          [
           0.6666666666666666,
           "#ed7953"
          ],
          [
           0.7777777777777778,
           "#fb9f3a"
          ],
          [
           0.8888888888888888,
           "#fdca26"
          ],
          [
           1,
           "#f0f921"
          ]
         ],
         "reversescale": false,
         "showscale": true,
         "type": "heatmap",
         "x": [
          "Adjusted PTS",
          "Adjusted REB",
          "Adjusted AST",
          "Adjusted STL",
          "Adjusted BLK",
          "Adjusted TOV",
          "Adjusted 3PM",
          "DEFWS",
          "TS%",
          "USG%",
          "PIE",
          "Play Pct.",
          "Team Conference Rank",
          "Prior ASG Appearances",
          "AS Last Year?",
          "Selected?"
         ],
         "y": [
          "Adjusted PTS",
          "Adjusted REB",
          "Adjusted AST",
          "Adjusted STL",
          "Adjusted BLK",
          "Adjusted TOV",
          "Adjusted 3PM",
          "DEFWS",
          "TS%",
          "USG%",
          "PIE",
          "Play Pct.",
          "Team Conference Rank",
          "Prior ASG Appearances",
          "AS Last Year?",
          "Selected?"
         ],
         "z": [
          [
           1,
           0.5957767917932566,
           0.6342253922018005,
           0.6650170831121405,
           0.29932156297199863,
           0.8372272600597217,
           0.5370290792248172,
           0.4277574926809356,
           0.37977366785470784,
           0.7377522324008648,
           0.706886913282358,
           0.4883056145106145,
           -0.044833964936940494,
           0.36887965315797094,
           0.4972389853739261,
           0.5478665894606033
          ],
          [
           0.5957767917932566,
           1,
           0.185602038126315,
           0.37398705516590935,
           0.689399899119298,
           0.5392621921440571,
           -0.02124657004979789,
           0.382194847678424,
           0.2985938695155433,
           0.27717792761996923,
           0.5940130652580337,
           0.4230449269979862,
           -0.02388829599603328,
           0.2739753946617958,
           0.324766617382574,
           0.35874115679151813
          ],
          [
           0.6342253922018005,
           0.185602038126315,
           1,
           0.6900273691524401,
           -0.04856831533692142,
           0.7615229551680182,
           0.4550786466352709,
           0.33018738510374407,
           0.15357990653787948,
           0.4372456563319721,
           0.5126507876482431,
           0.3452610341638097,
           -0.048276904344999136,
           0.28654427313570313,
           0.3569274127743087,
           0.37985772091584974
          ],
          [
           0.6650170831121405,
           0.37398705516590935,
           0.6900273691524401,
           1,
           0.1310324388979364,
           0.6838688375185464,
           0.4240938037644297,
           0.44944811079614083,
           0.1960812551025688,
           0.36652593086393037,
           0.505812858117812,
           0.4280020308472867,
           -0.028459167933562714,
           0.22355231473779513,
           0.30078007800418205,
           0.3327552869423085
          ],
          [
           0.29932156297199863,
           0.689399899119298,
           -0.04856831533692142,
           0.1310324388979364,
           1,
           0.2749801887365234,
           -0.1867651696281315,
           0.2575616379388739,
           0.2030476054349914,
           0.10215171913549595,
           0.3435061777130304,
           0.24894081051582967,
           -0.034469347054831546,
           0.18947048058770732,
           0.22806816959829943,
           0.2511333093141755
          ],
          [
           0.8372272600597217,
           0.5392621921440571,
           0.7615229551680182,
           0.6838688375185464,
           0.2749801887365234,
           1,
           0.3560033509268743,
           0.40546261756532775,
           0.22432046526527213,
           0.65545525497075,
           0.5770967954948072,
           0.43029612577886805,
           0.020402096293470232,
           0.32203301412842694,
           0.41797461981760686,
           0.45040081860657605
          ],
          [
           0.5370290792248172,
           -0.02124657004979789,
           0.4550786466352709,
           0.4240938037644297,
           -0.1867651696281315,
           0.3560033509268743,
           1,
           0.2096416673859669,
           0.2735840269860678,
           0.3422963918965958,
           0.2689542346540197,
           0.28375313085248344,
           -0.0671189439649122,
           0.12445065699495382,
           0.18291500330108984,
           0.2034531307290027
          ],
          [
           0.4277574926809356,
           0.382194847678424,
           0.33018738510374407,
           0.44944811079614083,
           0.2575616379388739,
           0.40546261756532775,
           0.2096416673859669,
           1,
           0.17350273942594693,
           0.19616988284523768,
           0.3976102730934342,
           0.3623307803957093,
           -0.2552406551653766,
           0.21361996107946388,
           0.24037543554420696,
           0.29305220057676146
          ],
          [
           0.37977366785470784,
           0.2985938695155433,
           0.15357990653787948,
           0.1960812551025688,
           0.2030476054349914,
           0.22432046526527213,
           0.2735840269860678,
           0.17350273942594693,
           1,
           0.10817120058857195,
           0.6242242867632237,
           0.33186966407567026,
           -0.13678532139035612,
           0.1161474761606479,
           0.13982332939435935,
           0.17028763415313453
          ],
          [
           0.7377522324008648,
           0.27717792761996923,
           0.4372456563319721,
           0.36652593086393037,
           0.10215171913549595,
           0.65545525497075,
           0.3422963918965958,
           0.19616988284523768,
           0.10817120058857195,
           1,
           0.5163451010808435,
           0.17102522795274344,
           0.004471586963087707,
           0.2978892817660719,
           0.39488029998508367,
           0.42823875232765746
          ],
          [
           0.706886913282358,
           0.5940130652580337,
           0.5126507876482431,
           0.505812858117812,
           0.3435061777130304,
           0.5770967954948072,
           0.2689542346540197,
           0.3976102730934342,
           0.6242242867632237,
           0.5163451010808435,
           1,
           0.407856042560596,
           -0.11955115997638517,
           0.33333844208208985,
           0.39529898268899755,
           0.44637987688453884
          ],
          [
           0.4883056145106145,
           0.4230449269979862,
           0.3452610341638097,
           0.4280020308472867,
           0.24894081051582967,
           0.43029612577886805,
           0.28375313085248344,
           0.3623307803957093,
           0.33186966407567026,
           0.17102522795274344,
           0.407856042560596,
           1,
           -0.08417269459911453,
           0.10428405206784067,
           0.12707948365128377,
           0.1855460567083735
          ],
          [
           -0.044833964936940494,
           -0.02388829599603328,
           -0.048276904344999136,
           -0.028459167933562714,
           -0.034469347054831546,
           0.020402096293470232,
           -0.0671189439649122,
           -0.2552406551653766,
           -0.13678532139035612,
           0.004471586963087707,
           -0.11955115997638517,
           -0.08417269459911453,
           1,
           -0.1408867159705297,
           -0.14555136671118651,
           -0.18811810305985235
          ],
          [
           0.36887965315797094,
           0.2739753946617958,
           0.28654427313570313,
           0.22355231473779513,
           0.18947048058770732,
           0.32203301412842694,
           0.12445065699495382,
           0.21361996107946388,
           0.1161474761606479,
           0.2978892817660719,
           0.33333844208208985,
           0.10428405206784067,
           -0.1408867159705297,
           1,
           0.5747176144216579,
           0.439931279619489
          ],
          [
           0.4972389853739261,
           0.324766617382574,
           0.3569274127743087,
           0.30078007800418205,
           0.22806816959829943,
           0.41797461981760686,
           0.18291500330108984,
           0.24037543554420696,
           0.13982332939435935,
           0.39488029998508367,
           0.39529898268899755,
           0.12707948365128377,
           -0.14555136671118651,
           0.5747176144216579,
           1,
           0.6424257318220532
          ],
          [
           0.5478665894606033,
           0.35874115679151813,
           0.37985772091584974,
           0.3327552869423085,
           0.2511333093141755,
           0.45040081860657605,
           0.2034531307290027,
           0.29305220057676146,
           0.17028763415313453,
           0.42823875232765746,
           0.44637987688453884,
           0.1855460567083735,
           -0.18811810305985235,
           0.439931279619489,
           0.6424257318220532,
           1
          ]
         ]
        }
       ],
       "layout": {
        "annotations": [
         {
          "font": {
           "color": "#000000"
          },
          "showarrow": false,
          "text": "1.0",
          "x": "Adjusted PTS",
          "xref": "x",
          "y": "Adjusted PTS",
          "yref": "y"
         },
         {
          "font": {
           "color": "#000000"
          },
          "showarrow": false,
          "text": "0.6",
          "x": "Adjusted REB",
          "xref": "x",
          "y": "Adjusted PTS",
          "yref": "y"
         },
         {
          "font": {
           "color": "#000000"
          },
          "showarrow": false,
          "text": "0.63",
          "x": "Adjusted AST",
          "xref": "x",
          "y": "Adjusted PTS",
          "yref": "y"
         },
         {
          "font": {
           "color": "#000000"
          },
          "showarrow": false,
          "text": "0.67",
          "x": "Adjusted STL",
          "xref": "x",
          "y": "Adjusted PTS",
          "yref": "y"
         },
         {
          "font": {
           "color": "#FFFFFF"
          },
          "showarrow": false,
          "text": "0.3",
          "x": "Adjusted BLK",
          "xref": "x",
          "y": "Adjusted PTS",
          "yref": "y"
         },
         {
          "font": {
           "color": "#000000"
          },
          "showarrow": false,
          "text": "0.84",
          "x": "Adjusted TOV",
          "xref": "x",
          "y": "Adjusted PTS",
          "yref": "y"
         },
         {
          "font": {
           "color": "#000000"
          },
          "showarrow": false,
          "text": "0.54",
          "x": "Adjusted 3PM",
          "xref": "x",
          "y": "Adjusted PTS",
          "yref": "y"
         },
         {
          "font": {
           "color": "#000000"
          },
          "showarrow": false,
          "text": "0.43",
          "x": "DEFWS",
          "xref": "x",
          "y": "Adjusted PTS",
          "yref": "y"
         },
         {
          "font": {
           "color": "#000000"
          },
          "showarrow": false,
          "text": "0.38",
          "x": "TS%",
          "xref": "x",
          "y": "Adjusted PTS",
          "yref": "y"
         },
         {
          "font": {
           "color": "#000000"
          },
          "showarrow": false,
          "text": "0.74",
          "x": "USG%",
          "xref": "x",
          "y": "Adjusted PTS",
          "yref": "y"
         },
         {
          "font": {
           "color": "#000000"
          },
          "showarrow": false,
          "text": "0.71",
          "x": "PIE",
          "xref": "x",
          "y": "Adjusted PTS",
          "yref": "y"
         },
         {
          "font": {
           "color": "#000000"
          },
          "showarrow": false,
          "text": "0.49",
          "x": "Play Pct.",
          "xref": "x",
          "y": "Adjusted PTS",
          "yref": "y"
         },
         {
          "font": {
           "color": "#FFFFFF"
          },
          "showarrow": false,
          "text": "-0.04",
          "x": "Team Conference Rank",
          "xref": "x",
          "y": "Adjusted PTS",
          "yref": "y"
         },
         {
          "font": {
           "color": "#FFFFFF"
          },
          "showarrow": false,
          "text": "0.37",
          "x": "Prior ASG Appearances",
          "xref": "x",
          "y": "Adjusted PTS",
          "yref": "y"
         },
         {
          "font": {
           "color": "#000000"
          },
          "showarrow": false,
          "text": "0.5",
          "x": "AS Last Year?",
          "xref": "x",
          "y": "Adjusted PTS",
          "yref": "y"
         },
         {
          "font": {
           "color": "#000000"
          },
          "showarrow": false,
          "text": "0.55",
          "x": "Selected?",
          "xref": "x",
          "y": "Adjusted PTS",
          "yref": "y"
         },
         {
          "font": {
           "color": "#000000"
          },
          "showarrow": false,
          "text": "0.6",
          "x": "Adjusted PTS",
          "xref": "x",
          "y": "Adjusted REB",
          "yref": "y"
         },
         {
          "font": {
           "color": "#000000"
          },
          "showarrow": false,
          "text": "1.0",
          "x": "Adjusted REB",
          "xref": "x",
          "y": "Adjusted REB",
          "yref": "y"
         },
         {
          "font": {
           "color": "#FFFFFF"
          },
          "showarrow": false,
          "text": "0.19",
          "x": "Adjusted AST",
          "xref": "x",
          "y": "Adjusted REB",
          "yref": "y"
         },
         {
          "font": {
           "color": "#000000"
          },
          "showarrow": false,
          "text": "0.37",
          "x": "Adjusted STL",
          "xref": "x",
          "y": "Adjusted REB",
          "yref": "y"
         },
         {
          "font": {
           "color": "#000000"
          },
          "showarrow": false,
          "text": "0.69",
          "x": "Adjusted BLK",
          "xref": "x",
          "y": "Adjusted REB",
          "yref": "y"
         },
         {
          "font": {
           "color": "#000000"
          },
          "showarrow": false,
          "text": "0.54",
          "x": "Adjusted TOV",
          "xref": "x",
          "y": "Adjusted REB",
          "yref": "y"
         },
         {
          "font": {
           "color": "#FFFFFF"
          },
          "showarrow": false,
          "text": "-0.02",
          "x": "Adjusted 3PM",
          "xref": "x",
          "y": "Adjusted REB",
          "yref": "y"
         },
         {
          "font": {
           "color": "#000000"
          },
          "showarrow": false,
          "text": "0.38",
          "x": "DEFWS",
          "xref": "x",
          "y": "Adjusted REB",
          "yref": "y"
         },
         {
          "font": {
           "color": "#FFFFFF"
          },
          "showarrow": false,
          "text": "0.3",
          "x": "TS%",
          "xref": "x",
          "y": "Adjusted REB",
          "yref": "y"
         },
         {
          "font": {
           "color": "#FFFFFF"
          },
          "showarrow": false,
          "text": "0.28",
          "x": "USG%",
          "xref": "x",
          "y": "Adjusted REB",
          "yref": "y"
         },
         {
          "font": {
           "color": "#000000"
          },
          "showarrow": false,
          "text": "0.59",
          "x": "PIE",
          "xref": "x",
          "y": "Adjusted REB",
          "yref": "y"
         },
         {
          "font": {
           "color": "#000000"
          },
          "showarrow": false,
          "text": "0.42",
          "x": "Play Pct.",
          "xref": "x",
          "y": "Adjusted REB",
          "yref": "y"
         },
         {
          "font": {
           "color": "#FFFFFF"
          },
          "showarrow": false,
          "text": "-0.02",
          "x": "Team Conference Rank",
          "xref": "x",
          "y": "Adjusted REB",
          "yref": "y"
         },
         {
          "font": {
           "color": "#FFFFFF"
          },
          "showarrow": false,
          "text": "0.27",
          "x": "Prior ASG Appearances",
          "xref": "x",
          "y": "Adjusted REB",
          "yref": "y"
         },
         {
          "font": {
           "color": "#FFFFFF"
          },
          "showarrow": false,
          "text": "0.32",
          "x": "AS Last Year?",
          "xref": "x",
          "y": "Adjusted REB",
          "yref": "y"
         },
         {
          "font": {
           "color": "#FFFFFF"
          },
          "showarrow": false,
          "text": "0.36",
          "x": "Selected?",
          "xref": "x",
          "y": "Adjusted REB",
          "yref": "y"
         },
         {
          "font": {
           "color": "#000000"
          },
          "showarrow": false,
          "text": "0.63",
          "x": "Adjusted PTS",
          "xref": "x",
          "y": "Adjusted AST",
          "yref": "y"
         },
         {
          "font": {
           "color": "#FFFFFF"
          },
          "showarrow": false,
          "text": "0.19",
          "x": "Adjusted REB",
          "xref": "x",
          "y": "Adjusted AST",
          "yref": "y"
         },
         {
          "font": {
           "color": "#000000"
          },
          "showarrow": false,
          "text": "1.0",
          "x": "Adjusted AST",
          "xref": "x",
          "y": "Adjusted AST",
          "yref": "y"
         },
         {
          "font": {
           "color": "#000000"
          },
          "showarrow": false,
          "text": "0.69",
          "x": "Adjusted STL",
          "xref": "x",
          "y": "Adjusted AST",
          "yref": "y"
         },
         {
          "font": {
           "color": "#FFFFFF"
          },
          "showarrow": false,
          "text": "-0.05",
          "x": "Adjusted BLK",
          "xref": "x",
          "y": "Adjusted AST",
          "yref": "y"
         },
         {
          "font": {
           "color": "#000000"
          },
          "showarrow": false,
          "text": "0.76",
          "x": "Adjusted TOV",
          "xref": "x",
          "y": "Adjusted AST",
          "yref": "y"
         },
         {
          "font": {
           "color": "#000000"
          },
          "showarrow": false,
          "text": "0.46",
          "x": "Adjusted 3PM",
          "xref": "x",
          "y": "Adjusted AST",
          "yref": "y"
         },
         {
          "font": {
           "color": "#FFFFFF"
          },
          "showarrow": false,
          "text": "0.33",
          "x": "DEFWS",
          "xref": "x",
          "y": "Adjusted AST",
          "yref": "y"
         },
         {
          "font": {
           "color": "#FFFFFF"
          },
          "showarrow": false,
          "text": "0.15",
          "x": "TS%",
          "xref": "x",
          "y": "Adjusted AST",
          "yref": "y"
         },
         {
          "font": {
           "color": "#000000"
          },
          "showarrow": false,
          "text": "0.44",
          "x": "USG%",
          "xref": "x",
          "y": "Adjusted AST",
          "yref": "y"
         },
         {
          "font": {
           "color": "#000000"
          },
          "showarrow": false,
          "text": "0.51",
          "x": "PIE",
          "xref": "x",
          "y": "Adjusted AST",
          "yref": "y"
         },
         {
          "font": {
           "color": "#FFFFFF"
          },
          "showarrow": false,
          "text": "0.35",
          "x": "Play Pct.",
          "xref": "x",
          "y": "Adjusted AST",
          "yref": "y"
         },
         {
          "font": {
           "color": "#FFFFFF"
          },
          "showarrow": false,
          "text": "-0.05",
          "x": "Team Conference Rank",
          "xref": "x",
          "y": "Adjusted AST",
          "yref": "y"
         },
         {
          "font": {
           "color": "#FFFFFF"
          },
          "showarrow": false,
          "text": "0.29",
          "x": "Prior ASG Appearances",
          "xref": "x",
          "y": "Adjusted AST",
          "yref": "y"
         },
         {
          "font": {
           "color": "#FFFFFF"
          },
          "showarrow": false,
          "text": "0.36",
          "x": "AS Last Year?",
          "xref": "x",
          "y": "Adjusted AST",
          "yref": "y"
         },
         {
          "font": {
           "color": "#000000"
          },
          "showarrow": false,
          "text": "0.38",
          "x": "Selected?",
          "xref": "x",
          "y": "Adjusted AST",
          "yref": "y"
         },
         {
          "font": {
           "color": "#000000"
          },
          "showarrow": false,
          "text": "0.67",
          "x": "Adjusted PTS",
          "xref": "x",
          "y": "Adjusted STL",
          "yref": "y"
         },
         {
          "font": {
           "color": "#000000"
          },
          "showarrow": false,
          "text": "0.37",
          "x": "Adjusted REB",
          "xref": "x",
          "y": "Adjusted STL",
          "yref": "y"
         },
         {
          "font": {
           "color": "#000000"
          },
          "showarrow": false,
          "text": "0.69",
          "x": "Adjusted AST",
          "xref": "x",
          "y": "Adjusted STL",
          "yref": "y"
         },
         {
          "font": {
           "color": "#000000"
          },
          "showarrow": false,
          "text": "1.0",
          "x": "Adjusted STL",
          "xref": "x",
          "y": "Adjusted STL",
          "yref": "y"
         },
         {
          "font": {
           "color": "#FFFFFF"
          },
          "showarrow": false,
          "text": "0.13",
          "x": "Adjusted BLK",
          "xref": "x",
          "y": "Adjusted STL",
          "yref": "y"
         },
         {
          "font": {
           "color": "#000000"
          },
          "showarrow": false,
          "text": "0.68",
          "x": "Adjusted TOV",
          "xref": "x",
          "y": "Adjusted STL",
          "yref": "y"
         },
         {
          "font": {
           "color": "#000000"
          },
          "showarrow": false,
          "text": "0.42",
          "x": "Adjusted 3PM",
          "xref": "x",
          "y": "Adjusted STL",
          "yref": "y"
         },
         {
          "font": {
           "color": "#000000"
          },
          "showarrow": false,
          "text": "0.45",
          "x": "DEFWS",
          "xref": "x",
          "y": "Adjusted STL",
          "yref": "y"
         },
         {
          "font": {
           "color": "#FFFFFF"
          },
          "showarrow": false,
          "text": "0.2",
          "x": "TS%",
          "xref": "x",
          "y": "Adjusted STL",
          "yref": "y"
         },
         {
          "font": {
           "color": "#FFFFFF"
          },
          "showarrow": false,
          "text": "0.37",
          "x": "USG%",
          "xref": "x",
          "y": "Adjusted STL",
          "yref": "y"
         },
         {
          "font": {
           "color": "#000000"
          },
          "showarrow": false,
          "text": "0.51",
          "x": "PIE",
          "xref": "x",
          "y": "Adjusted STL",
          "yref": "y"
         },
         {
          "font": {
           "color": "#000000"
          },
          "showarrow": false,
          "text": "0.43",
          "x": "Play Pct.",
          "xref": "x",
          "y": "Adjusted STL",
          "yref": "y"
         },
         {
          "font": {
           "color": "#FFFFFF"
          },
          "showarrow": false,
          "text": "-0.03",
          "x": "Team Conference Rank",
          "xref": "x",
          "y": "Adjusted STL",
          "yref": "y"
         },
         {
          "font": {
           "color": "#FFFFFF"
          },
          "showarrow": false,
          "text": "0.22",
          "x": "Prior ASG Appearances",
          "xref": "x",
          "y": "Adjusted STL",
          "yref": "y"
         },
         {
          "font": {
           "color": "#FFFFFF"
          },
          "showarrow": false,
          "text": "0.3",
          "x": "AS Last Year?",
          "xref": "x",
          "y": "Adjusted STL",
          "yref": "y"
         },
         {
          "font": {
           "color": "#FFFFFF"
          },
          "showarrow": false,
          "text": "0.33",
          "x": "Selected?",
          "xref": "x",
          "y": "Adjusted STL",
          "yref": "y"
         },
         {
          "font": {
           "color": "#FFFFFF"
          },
          "showarrow": false,
          "text": "0.3",
          "x": "Adjusted PTS",
          "xref": "x",
          "y": "Adjusted BLK",
          "yref": "y"
         },
         {
          "font": {
           "color": "#000000"
          },
          "showarrow": false,
          "text": "0.69",
          "x": "Adjusted REB",
          "xref": "x",
          "y": "Adjusted BLK",
          "yref": "y"
         },
         {
          "font": {
           "color": "#FFFFFF"
          },
          "showarrow": false,
          "text": "-0.05",
          "x": "Adjusted AST",
          "xref": "x",
          "y": "Adjusted BLK",
          "yref": "y"
         },
         {
          "font": {
           "color": "#FFFFFF"
          },
          "showarrow": false,
          "text": "0.13",
          "x": "Adjusted STL",
          "xref": "x",
          "y": "Adjusted BLK",
          "yref": "y"
         },
         {
          "font": {
           "color": "#000000"
          },
          "showarrow": false,
          "text": "1.0",
          "x": "Adjusted BLK",
          "xref": "x",
          "y": "Adjusted BLK",
          "yref": "y"
         },
         {
          "font": {
           "color": "#FFFFFF"
          },
          "showarrow": false,
          "text": "0.27",
          "x": "Adjusted TOV",
          "xref": "x",
          "y": "Adjusted BLK",
          "yref": "y"
         },
         {
          "font": {
           "color": "#FFFFFF"
          },
          "showarrow": false,
          "text": "-0.19",
          "x": "Adjusted 3PM",
          "xref": "x",
          "y": "Adjusted BLK",
          "yref": "y"
         },
         {
          "font": {
           "color": "#FFFFFF"
          },
          "showarrow": false,
          "text": "0.26",
          "x": "DEFWS",
          "xref": "x",
          "y": "Adjusted BLK",
          "yref": "y"
         },
         {
          "font": {
           "color": "#FFFFFF"
          },
          "showarrow": false,
          "text": "0.2",
          "x": "TS%",
          "xref": "x",
          "y": "Adjusted BLK",
          "yref": "y"
         },
         {
          "font": {
           "color": "#FFFFFF"
          },
          "showarrow": false,
          "text": "0.1",
          "x": "USG%",
          "xref": "x",
          "y": "Adjusted BLK",
          "yref": "y"
         },
         {
          "font": {
           "color": "#FFFFFF"
          },
          "showarrow": false,
          "text": "0.34",
          "x": "PIE",
          "xref": "x",
          "y": "Adjusted BLK",
          "yref": "y"
         },
         {
          "font": {
           "color": "#FFFFFF"
          },
          "showarrow": false,
          "text": "0.25",
          "x": "Play Pct.",
          "xref": "x",
          "y": "Adjusted BLK",
          "yref": "y"
         },
         {
          "font": {
           "color": "#FFFFFF"
          },
          "showarrow": false,
          "text": "-0.03",
          "x": "Team Conference Rank",
          "xref": "x",
          "y": "Adjusted BLK",
          "yref": "y"
         },
         {
          "font": {
           "color": "#FFFFFF"
          },
          "showarrow": false,
          "text": "0.19",
          "x": "Prior ASG Appearances",
          "xref": "x",
          "y": "Adjusted BLK",
          "yref": "y"
         },
         {
          "font": {
           "color": "#FFFFFF"
          },
          "showarrow": false,
          "text": "0.23",
          "x": "AS Last Year?",
          "xref": "x",
          "y": "Adjusted BLK",
          "yref": "y"
         },
         {
          "font": {
           "color": "#FFFFFF"
          },
          "showarrow": false,
          "text": "0.25",
          "x": "Selected?",
          "xref": "x",
          "y": "Adjusted BLK",
          "yref": "y"
         },
         {
          "font": {
           "color": "#000000"
          },
          "showarrow": false,
          "text": "0.84",
          "x": "Adjusted PTS",
          "xref": "x",
          "y": "Adjusted TOV",
          "yref": "y"
         },
         {
          "font": {
           "color": "#000000"
          },
          "showarrow": false,
          "text": "0.54",
          "x": "Adjusted REB",
          "xref": "x",
          "y": "Adjusted TOV",
          "yref": "y"
         },
         {
          "font": {
           "color": "#000000"
          },
          "showarrow": false,
          "text": "0.76",
          "x": "Adjusted AST",
          "xref": "x",
          "y": "Adjusted TOV",
          "yref": "y"
         },
         {
          "font": {
           "color": "#000000"
          },
          "showarrow": false,
          "text": "0.68",
          "x": "Adjusted STL",
          "xref": "x",
          "y": "Adjusted TOV",
          "yref": "y"
         },
         {
          "font": {
           "color": "#FFFFFF"
          },
          "showarrow": false,
          "text": "0.27",
          "x": "Adjusted BLK",
          "xref": "x",
          "y": "Adjusted TOV",
          "yref": "y"
         },
         {
          "font": {
           "color": "#000000"
          },
          "showarrow": false,
          "text": "1.0",
          "x": "Adjusted TOV",
          "xref": "x",
          "y": "Adjusted TOV",
          "yref": "y"
         },
         {
          "font": {
           "color": "#FFFFFF"
          },
          "showarrow": false,
          "text": "0.36",
          "x": "Adjusted 3PM",
          "xref": "x",
          "y": "Adjusted TOV",
          "yref": "y"
         },
         {
          "font": {
           "color": "#000000"
          },
          "showarrow": false,
          "text": "0.41",
          "x": "DEFWS",
          "xref": "x",
          "y": "Adjusted TOV",
          "yref": "y"
         },
         {
          "font": {
           "color": "#FFFFFF"
          },
          "showarrow": false,
          "text": "0.22",
          "x": "TS%",
          "xref": "x",
          "y": "Adjusted TOV",
          "yref": "y"
         },
         {
          "font": {
           "color": "#000000"
          },
          "showarrow": false,
          "text": "0.66",
          "x": "USG%",
          "xref": "x",
          "y": "Adjusted TOV",
          "yref": "y"
         },
         {
          "font": {
           "color": "#000000"
          },
          "showarrow": false,
          "text": "0.58",
          "x": "PIE",
          "xref": "x",
          "y": "Adjusted TOV",
          "yref": "y"
         },
         {
          "font": {
           "color": "#000000"
          },
          "showarrow": false,
          "text": "0.43",
          "x": "Play Pct.",
          "xref": "x",
          "y": "Adjusted TOV",
          "yref": "y"
         },
         {
          "font": {
           "color": "#FFFFFF"
          },
          "showarrow": false,
          "text": "0.02",
          "x": "Team Conference Rank",
          "xref": "x",
          "y": "Adjusted TOV",
          "yref": "y"
         },
         {
          "font": {
           "color": "#FFFFFF"
          },
          "showarrow": false,
          "text": "0.32",
          "x": "Prior ASG Appearances",
          "xref": "x",
          "y": "Adjusted TOV",
          "yref": "y"
         },
         {
          "font": {
           "color": "#000000"
          },
          "showarrow": false,
          "text": "0.42",
          "x": "AS Last Year?",
          "xref": "x",
          "y": "Adjusted TOV",
          "yref": "y"
         },
         {
          "font": {
           "color": "#000000"
          },
          "showarrow": false,
          "text": "0.45",
          "x": "Selected?",
          "xref": "x",
          "y": "Adjusted TOV",
          "yref": "y"
         },
         {
          "font": {
           "color": "#000000"
          },
          "showarrow": false,
          "text": "0.54",
          "x": "Adjusted PTS",
          "xref": "x",
          "y": "Adjusted 3PM",
          "yref": "y"
         },
         {
          "font": {
           "color": "#FFFFFF"
          },
          "showarrow": false,
          "text": "-0.02",
          "x": "Adjusted REB",
          "xref": "x",
          "y": "Adjusted 3PM",
          "yref": "y"
         },
         {
          "font": {
           "color": "#000000"
          },
          "showarrow": false,
          "text": "0.46",
          "x": "Adjusted AST",
          "xref": "x",
          "y": "Adjusted 3PM",
          "yref": "y"
         },
         {
          "font": {
           "color": "#000000"
          },
          "showarrow": false,
          "text": "0.42",
          "x": "Adjusted STL",
          "xref": "x",
          "y": "Adjusted 3PM",
          "yref": "y"
         },
         {
          "font": {
           "color": "#FFFFFF"
          },
          "showarrow": false,
          "text": "-0.19",
          "x": "Adjusted BLK",
          "xref": "x",
          "y": "Adjusted 3PM",
          "yref": "y"
         },
         {
          "font": {
           "color": "#FFFFFF"
          },
          "showarrow": false,
          "text": "0.36",
          "x": "Adjusted TOV",
          "xref": "x",
          "y": "Adjusted 3PM",
          "yref": "y"
         },
         {
          "font": {
           "color": "#000000"
          },
          "showarrow": false,
          "text": "1.0",
          "x": "Adjusted 3PM",
          "xref": "x",
          "y": "Adjusted 3PM",
          "yref": "y"
         },
         {
          "font": {
           "color": "#FFFFFF"
          },
          "showarrow": false,
          "text": "0.21",
          "x": "DEFWS",
          "xref": "x",
          "y": "Adjusted 3PM",
          "yref": "y"
         },
         {
          "font": {
           "color": "#FFFFFF"
          },
          "showarrow": false,
          "text": "0.27",
          "x": "TS%",
          "xref": "x",
          "y": "Adjusted 3PM",
          "yref": "y"
         },
         {
          "font": {
           "color": "#FFFFFF"
          },
          "showarrow": false,
          "text": "0.34",
          "x": "USG%",
          "xref": "x",
          "y": "Adjusted 3PM",
          "yref": "y"
         },
         {
          "font": {
           "color": "#FFFFFF"
          },
          "showarrow": false,
          "text": "0.27",
          "x": "PIE",
          "xref": "x",
          "y": "Adjusted 3PM",
          "yref": "y"
         },
         {
          "font": {
           "color": "#FFFFFF"
          },
          "showarrow": false,
          "text": "0.28",
          "x": "Play Pct.",
          "xref": "x",
          "y": "Adjusted 3PM",
          "yref": "y"
         },
         {
          "font": {
           "color": "#FFFFFF"
          },
          "showarrow": false,
          "text": "-0.07",
          "x": "Team Conference Rank",
          "xref": "x",
          "y": "Adjusted 3PM",
          "yref": "y"
         },
         {
          "font": {
           "color": "#FFFFFF"
          },
          "showarrow": false,
          "text": "0.12",
          "x": "Prior ASG Appearances",
          "xref": "x",
          "y": "Adjusted 3PM",
          "yref": "y"
         },
         {
          "font": {
           "color": "#FFFFFF"
          },
          "showarrow": false,
          "text": "0.18",
          "x": "AS Last Year?",
          "xref": "x",
          "y": "Adjusted 3PM",
          "yref": "y"
         },
         {
          "font": {
           "color": "#FFFFFF"
          },
          "showarrow": false,
          "text": "0.2",
          "x": "Selected?",
          "xref": "x",
          "y": "Adjusted 3PM",
          "yref": "y"
         },
         {
          "font": {
           "color": "#000000"
          },
          "showarrow": false,
          "text": "0.43",
          "x": "Adjusted PTS",
          "xref": "x",
          "y": "DEFWS",
          "yref": "y"
         },
         {
          "font": {
           "color": "#000000"
          },
          "showarrow": false,
          "text": "0.38",
          "x": "Adjusted REB",
          "xref": "x",
          "y": "DEFWS",
          "yref": "y"
         },
         {
          "font": {
           "color": "#FFFFFF"
          },
          "showarrow": false,
          "text": "0.33",
          "x": "Adjusted AST",
          "xref": "x",
          "y": "DEFWS",
          "yref": "y"
         },
         {
          "font": {
           "color": "#000000"
          },
          "showarrow": false,
          "text": "0.45",
          "x": "Adjusted STL",
          "xref": "x",
          "y": "DEFWS",
          "yref": "y"
         },
         {
          "font": {
           "color": "#FFFFFF"
          },
          "showarrow": false,
          "text": "0.26",
          "x": "Adjusted BLK",
          "xref": "x",
          "y": "DEFWS",
          "yref": "y"
         },
         {
          "font": {
           "color": "#000000"
          },
          "showarrow": false,
          "text": "0.41",
          "x": "Adjusted TOV",
          "xref": "x",
          "y": "DEFWS",
          "yref": "y"
         },
         {
          "font": {
           "color": "#FFFFFF"
          },
          "showarrow": false,
          "text": "0.21",
          "x": "Adjusted 3PM",
          "xref": "x",
          "y": "DEFWS",
          "yref": "y"
         },
         {
          "font": {
           "color": "#000000"
          },
          "showarrow": false,
          "text": "1.0",
          "x": "DEFWS",
          "xref": "x",
          "y": "DEFWS",
          "yref": "y"
         },
         {
          "font": {
           "color": "#FFFFFF"
          },
          "showarrow": false,
          "text": "0.17",
          "x": "TS%",
          "xref": "x",
          "y": "DEFWS",
          "yref": "y"
         },
         {
          "font": {
           "color": "#FFFFFF"
          },
          "showarrow": false,
          "text": "0.2",
          "x": "USG%",
          "xref": "x",
          "y": "DEFWS",
          "yref": "y"
         },
         {
          "font": {
           "color": "#000000"
          },
          "showarrow": false,
          "text": "0.4",
          "x": "PIE",
          "xref": "x",
          "y": "DEFWS",
          "yref": "y"
         },
         {
          "font": {
           "color": "#FFFFFF"
          },
          "showarrow": false,
          "text": "0.36",
          "x": "Play Pct.",
          "xref": "x",
          "y": "DEFWS",
          "yref": "y"
         },
         {
          "font": {
           "color": "#FFFFFF"
          },
          "showarrow": false,
          "text": "-0.26",
          "x": "Team Conference Rank",
          "xref": "x",
          "y": "DEFWS",
          "yref": "y"
         },
         {
          "font": {
           "color": "#FFFFFF"
          },
          "showarrow": false,
          "text": "0.21",
          "x": "Prior ASG Appearances",
          "xref": "x",
          "y": "DEFWS",
          "yref": "y"
         },
         {
          "font": {
           "color": "#FFFFFF"
          },
          "showarrow": false,
          "text": "0.24",
          "x": "AS Last Year?",
          "xref": "x",
          "y": "DEFWS",
          "yref": "y"
         },
         {
          "font": {
           "color": "#FFFFFF"
          },
          "showarrow": false,
          "text": "0.29",
          "x": "Selected?",
          "xref": "x",
          "y": "DEFWS",
          "yref": "y"
         },
         {
          "font": {
           "color": "#000000"
          },
          "showarrow": false,
          "text": "0.38",
          "x": "Adjusted PTS",
          "xref": "x",
          "y": "TS%",
          "yref": "y"
         },
         {
          "font": {
           "color": "#FFFFFF"
          },
          "showarrow": false,
          "text": "0.3",
          "x": "Adjusted REB",
          "xref": "x",
          "y": "TS%",
          "yref": "y"
         },
         {
          "font": {
           "color": "#FFFFFF"
          },
          "showarrow": false,
          "text": "0.15",
          "x": "Adjusted AST",
          "xref": "x",
          "y": "TS%",
          "yref": "y"
         },
         {
          "font": {
           "color": "#FFFFFF"
          },
          "showarrow": false,
          "text": "0.2",
          "x": "Adjusted STL",
          "xref": "x",
          "y": "TS%",
          "yref": "y"
         },
         {
          "font": {
           "color": "#FFFFFF"
          },
          "showarrow": false,
          "text": "0.2",
          "x": "Adjusted BLK",
          "xref": "x",
          "y": "TS%",
          "yref": "y"
         },
         {
          "font": {
           "color": "#FFFFFF"
          },
          "showarrow": false,
          "text": "0.22",
          "x": "Adjusted TOV",
          "xref": "x",
          "y": "TS%",
          "yref": "y"
         },
         {
          "font": {
           "color": "#FFFFFF"
          },
          "showarrow": false,
          "text": "0.27",
          "x": "Adjusted 3PM",
          "xref": "x",
          "y": "TS%",
          "yref": "y"
         },
         {
          "font": {
           "color": "#FFFFFF"
          },
          "showarrow": false,
          "text": "0.17",
          "x": "DEFWS",
          "xref": "x",
          "y": "TS%",
          "yref": "y"
         },
         {
          "font": {
           "color": "#000000"
          },
          "showarrow": false,
          "text": "1.0",
          "x": "TS%",
          "xref": "x",
          "y": "TS%",
          "yref": "y"
         },
         {
          "font": {
           "color": "#FFFFFF"
          },
          "showarrow": false,
          "text": "0.11",
          "x": "USG%",
          "xref": "x",
          "y": "TS%",
          "yref": "y"
         },
         {
          "font": {
           "color": "#000000"
          },
          "showarrow": false,
          "text": "0.62",
          "x": "PIE",
          "xref": "x",
          "y": "TS%",
          "yref": "y"
         },
         {
          "font": {
           "color": "#FFFFFF"
          },
          "showarrow": false,
          "text": "0.33",
          "x": "Play Pct.",
          "xref": "x",
          "y": "TS%",
          "yref": "y"
         },
         {
          "font": {
           "color": "#FFFFFF"
          },
          "showarrow": false,
          "text": "-0.14",
          "x": "Team Conference Rank",
          "xref": "x",
          "y": "TS%",
          "yref": "y"
         },
         {
          "font": {
           "color": "#FFFFFF"
          },
          "showarrow": false,
          "text": "0.12",
          "x": "Prior ASG Appearances",
          "xref": "x",
          "y": "TS%",
          "yref": "y"
         },
         {
          "font": {
           "color": "#FFFFFF"
          },
          "showarrow": false,
          "text": "0.14",
          "x": "AS Last Year?",
          "xref": "x",
          "y": "TS%",
          "yref": "y"
         },
         {
          "font": {
           "color": "#FFFFFF"
          },
          "showarrow": false,
          "text": "0.17",
          "x": "Selected?",
          "xref": "x",
          "y": "TS%",
          "yref": "y"
         },
         {
          "font": {
           "color": "#000000"
          },
          "showarrow": false,
          "text": "0.74",
          "x": "Adjusted PTS",
          "xref": "x",
          "y": "USG%",
          "yref": "y"
         },
         {
          "font": {
           "color": "#FFFFFF"
          },
          "showarrow": false,
          "text": "0.28",
          "x": "Adjusted REB",
          "xref": "x",
          "y": "USG%",
          "yref": "y"
         },
         {
          "font": {
           "color": "#000000"
          },
          "showarrow": false,
          "text": "0.44",
          "x": "Adjusted AST",
          "xref": "x",
          "y": "USG%",
          "yref": "y"
         },
         {
          "font": {
           "color": "#FFFFFF"
          },
          "showarrow": false,
          "text": "0.37",
          "x": "Adjusted STL",
          "xref": "x",
          "y": "USG%",
          "yref": "y"
         },
         {
          "font": {
           "color": "#FFFFFF"
          },
          "showarrow": false,
          "text": "0.1",
          "x": "Adjusted BLK",
          "xref": "x",
          "y": "USG%",
          "yref": "y"
         },
         {
          "font": {
           "color": "#000000"
          },
          "showarrow": false,
          "text": "0.66",
          "x": "Adjusted TOV",
          "xref": "x",
          "y": "USG%",
          "yref": "y"
         },
         {
          "font": {
           "color": "#FFFFFF"
          },
          "showarrow": false,
          "text": "0.34",
          "x": "Adjusted 3PM",
          "xref": "x",
          "y": "USG%",
          "yref": "y"
         },
         {
          "font": {
           "color": "#FFFFFF"
          },
          "showarrow": false,
          "text": "0.2",
          "x": "DEFWS",
          "xref": "x",
          "y": "USG%",
          "yref": "y"
         },
         {
          "font": {
           "color": "#FFFFFF"
          },
          "showarrow": false,
          "text": "0.11",
          "x": "TS%",
          "xref": "x",
          "y": "USG%",
          "yref": "y"
         },
         {
          "font": {
           "color": "#000000"
          },
          "showarrow": false,
          "text": "1.0",
          "x": "USG%",
          "xref": "x",
          "y": "USG%",
          "yref": "y"
         },
         {
          "font": {
           "color": "#000000"
          },
          "showarrow": false,
          "text": "0.52",
          "x": "PIE",
          "xref": "x",
          "y": "USG%",
          "yref": "y"
         },
         {
          "font": {
           "color": "#FFFFFF"
          },
          "showarrow": false,
          "text": "0.17",
          "x": "Play Pct.",
          "xref": "x",
          "y": "USG%",
          "yref": "y"
         },
         {
          "font": {
           "color": "#FFFFFF"
          },
          "showarrow": false,
          "text": "0.0",
          "x": "Team Conference Rank",
          "xref": "x",
          "y": "USG%",
          "yref": "y"
         },
         {
          "font": {
           "color": "#FFFFFF"
          },
          "showarrow": false,
          "text": "0.3",
          "x": "Prior ASG Appearances",
          "xref": "x",
          "y": "USG%",
          "yref": "y"
         },
         {
          "font": {
           "color": "#000000"
          },
          "showarrow": false,
          "text": "0.39",
          "x": "AS Last Year?",
          "xref": "x",
          "y": "USG%",
          "yref": "y"
         },
         {
          "font": {
           "color": "#000000"
          },
          "showarrow": false,
          "text": "0.43",
          "x": "Selected?",
          "xref": "x",
          "y": "USG%",
          "yref": "y"
         },
         {
          "font": {
           "color": "#000000"
          },
          "showarrow": false,
          "text": "0.71",
          "x": "Adjusted PTS",
          "xref": "x",
          "y": "PIE",
          "yref": "y"
         },
         {
          "font": {
           "color": "#000000"
          },
          "showarrow": false,
          "text": "0.59",
          "x": "Adjusted REB",
          "xref": "x",
          "y": "PIE",
          "yref": "y"
         },
         {
          "font": {
           "color": "#000000"
          },
          "showarrow": false,
          "text": "0.51",
          "x": "Adjusted AST",
          "xref": "x",
          "y": "PIE",
          "yref": "y"
         },
         {
          "font": {
           "color": "#000000"
          },
          "showarrow": false,
          "text": "0.51",
          "x": "Adjusted STL",
          "xref": "x",
          "y": "PIE",
          "yref": "y"
         },
         {
          "font": {
           "color": "#FFFFFF"
          },
          "showarrow": false,
          "text": "0.34",
          "x": "Adjusted BLK",
          "xref": "x",
          "y": "PIE",
          "yref": "y"
         },
         {
          "font": {
           "color": "#000000"
          },
          "showarrow": false,
          "text": "0.58",
          "x": "Adjusted TOV",
          "xref": "x",
          "y": "PIE",
          "yref": "y"
         },
         {
          "font": {
           "color": "#FFFFFF"
          },
          "showarrow": false,
          "text": "0.27",
          "x": "Adjusted 3PM",
          "xref": "x",
          "y": "PIE",
          "yref": "y"
         },
         {
          "font": {
           "color": "#000000"
          },
          "showarrow": false,
          "text": "0.4",
          "x": "DEFWS",
          "xref": "x",
          "y": "PIE",
          "yref": "y"
         },
         {
          "font": {
           "color": "#000000"
          },
          "showarrow": false,
          "text": "0.62",
          "x": "TS%",
          "xref": "x",
          "y": "PIE",
          "yref": "y"
         },
         {
          "font": {
           "color": "#000000"
          },
          "showarrow": false,
          "text": "0.52",
          "x": "USG%",
          "xref": "x",
          "y": "PIE",
          "yref": "y"
         },
         {
          "font": {
           "color": "#000000"
          },
          "showarrow": false,
          "text": "1.0",
          "x": "PIE",
          "xref": "x",
          "y": "PIE",
          "yref": "y"
         },
         {
          "font": {
           "color": "#000000"
          },
          "showarrow": false,
          "text": "0.41",
          "x": "Play Pct.",
          "xref": "x",
          "y": "PIE",
          "yref": "y"
         },
         {
          "font": {
           "color": "#FFFFFF"
          },
          "showarrow": false,
          "text": "-0.12",
          "x": "Team Conference Rank",
          "xref": "x",
          "y": "PIE",
          "yref": "y"
         },
         {
          "font": {
           "color": "#FFFFFF"
          },
          "showarrow": false,
          "text": "0.33",
          "x": "Prior ASG Appearances",
          "xref": "x",
          "y": "PIE",
          "yref": "y"
         },
         {
          "font": {
           "color": "#000000"
          },
          "showarrow": false,
          "text": "0.4",
          "x": "AS Last Year?",
          "xref": "x",
          "y": "PIE",
          "yref": "y"
         },
         {
          "font": {
           "color": "#000000"
          },
          "showarrow": false,
          "text": "0.45",
          "x": "Selected?",
          "xref": "x",
          "y": "PIE",
          "yref": "y"
         },
         {
          "font": {
           "color": "#000000"
          },
          "showarrow": false,
          "text": "0.49",
          "x": "Adjusted PTS",
          "xref": "x",
          "y": "Play Pct.",
          "yref": "y"
         },
         {
          "font": {
           "color": "#000000"
          },
          "showarrow": false,
          "text": "0.42",
          "x": "Adjusted REB",
          "xref": "x",
          "y": "Play Pct.",
          "yref": "y"
         },
         {
          "font": {
           "color": "#FFFFFF"
          },
          "showarrow": false,
          "text": "0.35",
          "x": "Adjusted AST",
          "xref": "x",
          "y": "Play Pct.",
          "yref": "y"
         },
         {
          "font": {
           "color": "#000000"
          },
          "showarrow": false,
          "text": "0.43",
          "x": "Adjusted STL",
          "xref": "x",
          "y": "Play Pct.",
          "yref": "y"
         },
         {
          "font": {
           "color": "#FFFFFF"
          },
          "showarrow": false,
          "text": "0.25",
          "x": "Adjusted BLK",
          "xref": "x",
          "y": "Play Pct.",
          "yref": "y"
         },
         {
          "font": {
           "color": "#000000"
          },
          "showarrow": false,
          "text": "0.43",
          "x": "Adjusted TOV",
          "xref": "x",
          "y": "Play Pct.",
          "yref": "y"
         },
         {
          "font": {
           "color": "#FFFFFF"
          },
          "showarrow": false,
          "text": "0.28",
          "x": "Adjusted 3PM",
          "xref": "x",
          "y": "Play Pct.",
          "yref": "y"
         },
         {
          "font": {
           "color": "#FFFFFF"
          },
          "showarrow": false,
          "text": "0.36",
          "x": "DEFWS",
          "xref": "x",
          "y": "Play Pct.",
          "yref": "y"
         },
         {
          "font": {
           "color": "#FFFFFF"
          },
          "showarrow": false,
          "text": "0.33",
          "x": "TS%",
          "xref": "x",
          "y": "Play Pct.",
          "yref": "y"
         },
         {
          "font": {
           "color": "#FFFFFF"
          },
          "showarrow": false,
          "text": "0.17",
          "x": "USG%",
          "xref": "x",
          "y": "Play Pct.",
          "yref": "y"
         },
         {
          "font": {
           "color": "#000000"
          },
          "showarrow": false,
          "text": "0.41",
          "x": "PIE",
          "xref": "x",
          "y": "Play Pct.",
          "yref": "y"
         },
         {
          "font": {
           "color": "#000000"
          },
          "showarrow": false,
          "text": "1.0",
          "x": "Play Pct.",
          "xref": "x",
          "y": "Play Pct.",
          "yref": "y"
         },
         {
          "font": {
           "color": "#FFFFFF"
          },
          "showarrow": false,
          "text": "-0.08",
          "x": "Team Conference Rank",
          "xref": "x",
          "y": "Play Pct.",
          "yref": "y"
         },
         {
          "font": {
           "color": "#FFFFFF"
          },
          "showarrow": false,
          "text": "0.1",
          "x": "Prior ASG Appearances",
          "xref": "x",
          "y": "Play Pct.",
          "yref": "y"
         },
         {
          "font": {
           "color": "#FFFFFF"
          },
          "showarrow": false,
          "text": "0.13",
          "x": "AS Last Year?",
          "xref": "x",
          "y": "Play Pct.",
          "yref": "y"
         },
         {
          "font": {
           "color": "#FFFFFF"
          },
          "showarrow": false,
          "text": "0.19",
          "x": "Selected?",
          "xref": "x",
          "y": "Play Pct.",
          "yref": "y"
         },
         {
          "font": {
           "color": "#FFFFFF"
          },
          "showarrow": false,
          "text": "-0.04",
          "x": "Adjusted PTS",
          "xref": "x",
          "y": "Team Conference Rank",
          "yref": "y"
         },
         {
          "font": {
           "color": "#FFFFFF"
          },
          "showarrow": false,
          "text": "-0.02",
          "x": "Adjusted REB",
          "xref": "x",
          "y": "Team Conference Rank",
          "yref": "y"
         },
         {
          "font": {
           "color": "#FFFFFF"
          },
          "showarrow": false,
          "text": "-0.05",
          "x": "Adjusted AST",
          "xref": "x",
          "y": "Team Conference Rank",
          "yref": "y"
         },
         {
          "font": {
           "color": "#FFFFFF"
          },
          "showarrow": false,
          "text": "-0.03",
          "x": "Adjusted STL",
          "xref": "x",
          "y": "Team Conference Rank",
          "yref": "y"
         },
         {
          "font": {
           "color": "#FFFFFF"
          },
          "showarrow": false,
          "text": "-0.03",
          "x": "Adjusted BLK",
          "xref": "x",
          "y": "Team Conference Rank",
          "yref": "y"
         },
         {
          "font": {
           "color": "#FFFFFF"
          },
          "showarrow": false,
          "text": "0.02",
          "x": "Adjusted TOV",
          "xref": "x",
          "y": "Team Conference Rank",
          "yref": "y"
         },
         {
          "font": {
           "color": "#FFFFFF"
          },
          "showarrow": false,
          "text": "-0.07",
          "x": "Adjusted 3PM",
          "xref": "x",
          "y": "Team Conference Rank",
          "yref": "y"
         },
         {
          "font": {
           "color": "#FFFFFF"
          },
          "showarrow": false,
          "text": "-0.26",
          "x": "DEFWS",
          "xref": "x",
          "y": "Team Conference Rank",
          "yref": "y"
         },
         {
          "font": {
           "color": "#FFFFFF"
          },
          "showarrow": false,
          "text": "-0.14",
          "x": "TS%",
          "xref": "x",
          "y": "Team Conference Rank",
          "yref": "y"
         },
         {
          "font": {
           "color": "#FFFFFF"
          },
          "showarrow": false,
          "text": "0.0",
          "x": "USG%",
          "xref": "x",
          "y": "Team Conference Rank",
          "yref": "y"
         },
         {
          "font": {
           "color": "#FFFFFF"
          },
          "showarrow": false,
          "text": "-0.12",
          "x": "PIE",
          "xref": "x",
          "y": "Team Conference Rank",
          "yref": "y"
         },
         {
          "font": {
           "color": "#FFFFFF"
          },
          "showarrow": false,
          "text": "-0.08",
          "x": "Play Pct.",
          "xref": "x",
          "y": "Team Conference Rank",
          "yref": "y"
         },
         {
          "font": {
           "color": "#000000"
          },
          "showarrow": false,
          "text": "1.0",
          "x": "Team Conference Rank",
          "xref": "x",
          "y": "Team Conference Rank",
          "yref": "y"
         },
         {
          "font": {
           "color": "#FFFFFF"
          },
          "showarrow": false,
          "text": "-0.14",
          "x": "Prior ASG Appearances",
          "xref": "x",
          "y": "Team Conference Rank",
          "yref": "y"
         },
         {
          "font": {
           "color": "#FFFFFF"
          },
          "showarrow": false,
          "text": "-0.15",
          "x": "AS Last Year?",
          "xref": "x",
          "y": "Team Conference Rank",
          "yref": "y"
         },
         {
          "font": {
           "color": "#FFFFFF"
          },
          "showarrow": false,
          "text": "-0.19",
          "x": "Selected?",
          "xref": "x",
          "y": "Team Conference Rank",
          "yref": "y"
         },
         {
          "font": {
           "color": "#FFFFFF"
          },
          "showarrow": false,
          "text": "0.37",
          "x": "Adjusted PTS",
          "xref": "x",
          "y": "Prior ASG Appearances",
          "yref": "y"
         },
         {
          "font": {
           "color": "#FFFFFF"
          },
          "showarrow": false,
          "text": "0.27",
          "x": "Adjusted REB",
          "xref": "x",
          "y": "Prior ASG Appearances",
          "yref": "y"
         },
         {
          "font": {
           "color": "#FFFFFF"
          },
          "showarrow": false,
          "text": "0.29",
          "x": "Adjusted AST",
          "xref": "x",
          "y": "Prior ASG Appearances",
          "yref": "y"
         },
         {
          "font": {
           "color": "#FFFFFF"
          },
          "showarrow": false,
          "text": "0.22",
          "x": "Adjusted STL",
          "xref": "x",
          "y": "Prior ASG Appearances",
          "yref": "y"
         },
         {
          "font": {
           "color": "#FFFFFF"
          },
          "showarrow": false,
          "text": "0.19",
          "x": "Adjusted BLK",
          "xref": "x",
          "y": "Prior ASG Appearances",
          "yref": "y"
         },
         {
          "font": {
           "color": "#FFFFFF"
          },
          "showarrow": false,
          "text": "0.32",
          "x": "Adjusted TOV",
          "xref": "x",
          "y": "Prior ASG Appearances",
          "yref": "y"
         },
         {
          "font": {
           "color": "#FFFFFF"
          },
          "showarrow": false,
          "text": "0.12",
          "x": "Adjusted 3PM",
          "xref": "x",
          "y": "Prior ASG Appearances",
          "yref": "y"
         },
         {
          "font": {
           "color": "#FFFFFF"
          },
          "showarrow": false,
          "text": "0.21",
          "x": "DEFWS",
          "xref": "x",
          "y": "Prior ASG Appearances",
          "yref": "y"
         },
         {
          "font": {
           "color": "#FFFFFF"
          },
          "showarrow": false,
          "text": "0.12",
          "x": "TS%",
          "xref": "x",
          "y": "Prior ASG Appearances",
          "yref": "y"
         },
         {
          "font": {
           "color": "#FFFFFF"
          },
          "showarrow": false,
          "text": "0.3",
          "x": "USG%",
          "xref": "x",
          "y": "Prior ASG Appearances",
          "yref": "y"
         },
         {
          "font": {
           "color": "#FFFFFF"
          },
          "showarrow": false,
          "text": "0.33",
          "x": "PIE",
          "xref": "x",
          "y": "Prior ASG Appearances",
          "yref": "y"
         },
         {
          "font": {
           "color": "#FFFFFF"
          },
          "showarrow": false,
          "text": "0.1",
          "x": "Play Pct.",
          "xref": "x",
          "y": "Prior ASG Appearances",
          "yref": "y"
         },
         {
          "font": {
           "color": "#FFFFFF"
          },
          "showarrow": false,
          "text": "-0.14",
          "x": "Team Conference Rank",
          "xref": "x",
          "y": "Prior ASG Appearances",
          "yref": "y"
         },
         {
          "font": {
           "color": "#000000"
          },
          "showarrow": false,
          "text": "1.0",
          "x": "Prior ASG Appearances",
          "xref": "x",
          "y": "Prior ASG Appearances",
          "yref": "y"
         },
         {
          "font": {
           "color": "#000000"
          },
          "showarrow": false,
          "text": "0.57",
          "x": "AS Last Year?",
          "xref": "x",
          "y": "Prior ASG Appearances",
          "yref": "y"
         },
         {
          "font": {
           "color": "#000000"
          },
          "showarrow": false,
          "text": "0.44",
          "x": "Selected?",
          "xref": "x",
          "y": "Prior ASG Appearances",
          "yref": "y"
         },
         {
          "font": {
           "color": "#000000"
          },
          "showarrow": false,
          "text": "0.5",
          "x": "Adjusted PTS",
          "xref": "x",
          "y": "AS Last Year?",
          "yref": "y"
         },
         {
          "font": {
           "color": "#FFFFFF"
          },
          "showarrow": false,
          "text": "0.32",
          "x": "Adjusted REB",
          "xref": "x",
          "y": "AS Last Year?",
          "yref": "y"
         },
         {
          "font": {
           "color": "#FFFFFF"
          },
          "showarrow": false,
          "text": "0.36",
          "x": "Adjusted AST",
          "xref": "x",
          "y": "AS Last Year?",
          "yref": "y"
         },
         {
          "font": {
           "color": "#FFFFFF"
          },
          "showarrow": false,
          "text": "0.3",
          "x": "Adjusted STL",
          "xref": "x",
          "y": "AS Last Year?",
          "yref": "y"
         },
         {
          "font": {
           "color": "#FFFFFF"
          },
          "showarrow": false,
          "text": "0.23",
          "x": "Adjusted BLK",
          "xref": "x",
          "y": "AS Last Year?",
          "yref": "y"
         },
         {
          "font": {
           "color": "#000000"
          },
          "showarrow": false,
          "text": "0.42",
          "x": "Adjusted TOV",
          "xref": "x",
          "y": "AS Last Year?",
          "yref": "y"
         },
         {
          "font": {
           "color": "#FFFFFF"
          },
          "showarrow": false,
          "text": "0.18",
          "x": "Adjusted 3PM",
          "xref": "x",
          "y": "AS Last Year?",
          "yref": "y"
         },
         {
          "font": {
           "color": "#FFFFFF"
          },
          "showarrow": false,
          "text": "0.24",
          "x": "DEFWS",
          "xref": "x",
          "y": "AS Last Year?",
          "yref": "y"
         },
         {
          "font": {
           "color": "#FFFFFF"
          },
          "showarrow": false,
          "text": "0.14",
          "x": "TS%",
          "xref": "x",
          "y": "AS Last Year?",
          "yref": "y"
         },
         {
          "font": {
           "color": "#000000"
          },
          "showarrow": false,
          "text": "0.39",
          "x": "USG%",
          "xref": "x",
          "y": "AS Last Year?",
          "yref": "y"
         },
         {
          "font": {
           "color": "#000000"
          },
          "showarrow": false,
          "text": "0.4",
          "x": "PIE",
          "xref": "x",
          "y": "AS Last Year?",
          "yref": "y"
         },
         {
          "font": {
           "color": "#FFFFFF"
          },
          "showarrow": false,
          "text": "0.13",
          "x": "Play Pct.",
          "xref": "x",
          "y": "AS Last Year?",
          "yref": "y"
         },
         {
          "font": {
           "color": "#FFFFFF"
          },
          "showarrow": false,
          "text": "-0.15",
          "x": "Team Conference Rank",
          "xref": "x",
          "y": "AS Last Year?",
          "yref": "y"
         },
         {
          "font": {
           "color": "#000000"
          },
          "showarrow": false,
          "text": "0.57",
          "x": "Prior ASG Appearances",
          "xref": "x",
          "y": "AS Last Year?",
          "yref": "y"
         },
         {
          "font": {
           "color": "#000000"
          },
          "showarrow": false,
          "text": "1.0",
          "x": "AS Last Year?",
          "xref": "x",
          "y": "AS Last Year?",
          "yref": "y"
         },
         {
          "font": {
           "color": "#000000"
          },
          "showarrow": false,
          "text": "0.64",
          "x": "Selected?",
          "xref": "x",
          "y": "AS Last Year?",
          "yref": "y"
         },
         {
          "font": {
           "color": "#000000"
          },
          "showarrow": false,
          "text": "0.55",
          "x": "Adjusted PTS",
          "xref": "x",
          "y": "Selected?",
          "yref": "y"
         },
         {
          "font": {
           "color": "#FFFFFF"
          },
          "showarrow": false,
          "text": "0.36",
          "x": "Adjusted REB",
          "xref": "x",
          "y": "Selected?",
          "yref": "y"
         },
         {
          "font": {
           "color": "#000000"
          },
          "showarrow": false,
          "text": "0.38",
          "x": "Adjusted AST",
          "xref": "x",
          "y": "Selected?",
          "yref": "y"
         },
         {
          "font": {
           "color": "#FFFFFF"
          },
          "showarrow": false,
          "text": "0.33",
          "x": "Adjusted STL",
          "xref": "x",
          "y": "Selected?",
          "yref": "y"
         },
         {
          "font": {
           "color": "#FFFFFF"
          },
          "showarrow": false,
          "text": "0.25",
          "x": "Adjusted BLK",
          "xref": "x",
          "y": "Selected?",
          "yref": "y"
         },
         {
          "font": {
           "color": "#000000"
          },
          "showarrow": false,
          "text": "0.45",
          "x": "Adjusted TOV",
          "xref": "x",
          "y": "Selected?",
          "yref": "y"
         },
         {
          "font": {
           "color": "#FFFFFF"
          },
          "showarrow": false,
          "text": "0.2",
          "x": "Adjusted 3PM",
          "xref": "x",
          "y": "Selected?",
          "yref": "y"
         },
         {
          "font": {
           "color": "#FFFFFF"
          },
          "showarrow": false,
          "text": "0.29",
          "x": "DEFWS",
          "xref": "x",
          "y": "Selected?",
          "yref": "y"
         },
         {
          "font": {
           "color": "#FFFFFF"
          },
          "showarrow": false,
          "text": "0.17",
          "x": "TS%",
          "xref": "x",
          "y": "Selected?",
          "yref": "y"
         },
         {
          "font": {
           "color": "#000000"
          },
          "showarrow": false,
          "text": "0.43",
          "x": "USG%",
          "xref": "x",
          "y": "Selected?",
          "yref": "y"
         },
         {
          "font": {
           "color": "#000000"
          },
          "showarrow": false,
          "text": "0.45",
          "x": "PIE",
          "xref": "x",
          "y": "Selected?",
          "yref": "y"
         },
         {
          "font": {
           "color": "#FFFFFF"
          },
          "showarrow": false,
          "text": "0.19",
          "x": "Play Pct.",
          "xref": "x",
          "y": "Selected?",
          "yref": "y"
         },
         {
          "font": {
           "color": "#FFFFFF"
          },
          "showarrow": false,
          "text": "-0.19",
          "x": "Team Conference Rank",
          "xref": "x",
          "y": "Selected?",
          "yref": "y"
         },
         {
          "font": {
           "color": "#000000"
          },
          "showarrow": false,
          "text": "0.44",
          "x": "Prior ASG Appearances",
          "xref": "x",
          "y": "Selected?",
          "yref": "y"
         },
         {
          "font": {
           "color": "#000000"
          },
          "showarrow": false,
          "text": "0.64",
          "x": "AS Last Year?",
          "xref": "x",
          "y": "Selected?",
          "yref": "y"
         },
         {
          "font": {
           "color": "#000000"
          },
          "showarrow": false,
          "text": "1.0",
          "x": "Selected?",
          "xref": "x",
          "y": "Selected?",
          "yref": "y"
         }
        ],
        "height": 800,
        "margin": {
         "l": 200,
         "t": 200
        },
        "template": {
         "data": {
          "bar": [
           {
            "error_x": {
             "color": "#2a3f5f"
            },
            "error_y": {
             "color": "#2a3f5f"
            },
            "marker": {
             "line": {
              "color": "#E5ECF6",
              "width": 0.5
             }
            },
            "type": "bar"
           }
          ],
          "barpolar": [
           {
            "marker": {
             "line": {
              "color": "#E5ECF6",
              "width": 0.5
             }
            },
            "type": "barpolar"
           }
          ],
          "carpet": [
           {
            "aaxis": {
             "endlinecolor": "#2a3f5f",
             "gridcolor": "white",
             "linecolor": "white",
             "minorgridcolor": "white",
             "startlinecolor": "#2a3f5f"
            },
            "baxis": {
             "endlinecolor": "#2a3f5f",
             "gridcolor": "white",
             "linecolor": "white",
             "minorgridcolor": "white",
             "startlinecolor": "#2a3f5f"
            },
            "type": "carpet"
           }
          ],
          "choropleth": [
           {
            "colorbar": {
             "outlinewidth": 0,
             "ticks": ""
            },
            "type": "choropleth"
           }
          ],
          "contour": [
           {
            "colorbar": {
             "outlinewidth": 0,
             "ticks": ""
            },
            "colorscale": [
             [
              0,
              "#0d0887"
             ],
             [
              0.1111111111111111,
              "#46039f"
             ],
             [
              0.2222222222222222,
              "#7201a8"
             ],
             [
              0.3333333333333333,
              "#9c179e"
             ],
             [
              0.4444444444444444,
              "#bd3786"
             ],
             [
              0.5555555555555556,
              "#d8576b"
             ],
             [
              0.6666666666666666,
              "#ed7953"
             ],
             [
              0.7777777777777778,
              "#fb9f3a"
             ],
             [
              0.8888888888888888,
              "#fdca26"
             ],
             [
              1,
              "#f0f921"
             ]
            ],
            "type": "contour"
           }
          ],
          "contourcarpet": [
           {
            "colorbar": {
             "outlinewidth": 0,
             "ticks": ""
            },
            "type": "contourcarpet"
           }
          ],
          "heatmap": [
           {
            "colorbar": {
             "outlinewidth": 0,
             "ticks": ""
            },
            "colorscale": [
             [
              0,
              "#0d0887"
             ],
             [
              0.1111111111111111,
              "#46039f"
             ],
             [
              0.2222222222222222,
              "#7201a8"
             ],
             [
              0.3333333333333333,
              "#9c179e"
             ],
             [
              0.4444444444444444,
              "#bd3786"
             ],
             [
              0.5555555555555556,
              "#d8576b"
             ],
             [
              0.6666666666666666,
              "#ed7953"
             ],
             [
              0.7777777777777778,
              "#fb9f3a"
             ],
             [
              0.8888888888888888,
              "#fdca26"
             ],
             [
              1,
              "#f0f921"
             ]
            ],
            "type": "heatmap"
           }
          ],
          "heatmapgl": [
           {
            "colorbar": {
             "outlinewidth": 0,
             "ticks": ""
            },
            "colorscale": [
             [
              0,
              "#0d0887"
             ],
             [
              0.1111111111111111,
              "#46039f"
             ],
             [
              0.2222222222222222,
              "#7201a8"
             ],
             [
              0.3333333333333333,
              "#9c179e"
             ],
             [
              0.4444444444444444,
              "#bd3786"
             ],
             [
              0.5555555555555556,
              "#d8576b"
             ],
             [
              0.6666666666666666,
              "#ed7953"
             ],
             [
              0.7777777777777778,
              "#fb9f3a"
             ],
             [
              0.8888888888888888,
              "#fdca26"
             ],
             [
              1,
              "#f0f921"
             ]
            ],
            "type": "heatmapgl"
           }
          ],
          "histogram": [
           {
            "marker": {
             "colorbar": {
              "outlinewidth": 0,
              "ticks": ""
             }
            },
            "type": "histogram"
           }
          ],
          "histogram2d": [
           {
            "colorbar": {
             "outlinewidth": 0,
             "ticks": ""
            },
            "colorscale": [
             [
              0,
              "#0d0887"
             ],
             [
              0.1111111111111111,
              "#46039f"
             ],
             [
              0.2222222222222222,
              "#7201a8"
             ],
             [
              0.3333333333333333,
              "#9c179e"
             ],
             [
              0.4444444444444444,
              "#bd3786"
             ],
             [
              0.5555555555555556,
              "#d8576b"
             ],
             [
              0.6666666666666666,
              "#ed7953"
             ],
             [
              0.7777777777777778,
              "#fb9f3a"
             ],
             [
              0.8888888888888888,
              "#fdca26"
             ],
             [
              1,
              "#f0f921"
             ]
            ],
            "type": "histogram2d"
           }
          ],
          "histogram2dcontour": [
           {
            "colorbar": {
             "outlinewidth": 0,
             "ticks": ""
            },
            "colorscale": [
             [
              0,
              "#0d0887"
             ],
             [
              0.1111111111111111,
              "#46039f"
             ],
             [
              0.2222222222222222,
              "#7201a8"
             ],
             [
              0.3333333333333333,
              "#9c179e"
             ],
             [
              0.4444444444444444,
              "#bd3786"
             ],
             [
              0.5555555555555556,
              "#d8576b"
             ],
             [
              0.6666666666666666,
              "#ed7953"
             ],
             [
              0.7777777777777778,
              "#fb9f3a"
             ],
             [
              0.8888888888888888,
              "#fdca26"
             ],
             [
              1,
              "#f0f921"
             ]
            ],
            "type": "histogram2dcontour"
           }
          ],
          "mesh3d": [
           {
            "colorbar": {
             "outlinewidth": 0,
             "ticks": ""
            },
            "type": "mesh3d"
           }
          ],
          "parcoords": [
           {
            "line": {
             "colorbar": {
              "outlinewidth": 0,
              "ticks": ""
             }
            },
            "type": "parcoords"
           }
          ],
          "pie": [
           {
            "automargin": true,
            "type": "pie"
           }
          ],
          "scatter": [
           {
            "marker": {
             "colorbar": {
              "outlinewidth": 0,
              "ticks": ""
             }
            },
            "type": "scatter"
           }
          ],
          "scatter3d": [
           {
            "line": {
             "colorbar": {
              "outlinewidth": 0,
              "ticks": ""
             }
            },
            "marker": {
             "colorbar": {
              "outlinewidth": 0,
              "ticks": ""
             }
            },
            "type": "scatter3d"
           }
          ],
          "scattercarpet": [
           {
            "marker": {
             "colorbar": {
              "outlinewidth": 0,
              "ticks": ""
             }
            },
            "type": "scattercarpet"
           }
          ],
          "scattergeo": [
           {
            "marker": {
             "colorbar": {
              "outlinewidth": 0,
              "ticks": ""
             }
            },
            "type": "scattergeo"
           }
          ],
          "scattergl": [
           {
            "marker": {
             "colorbar": {
              "outlinewidth": 0,
              "ticks": ""
             }
            },
            "type": "scattergl"
           }
          ],
          "scattermapbox": [
           {
            "marker": {
             "colorbar": {
              "outlinewidth": 0,
              "ticks": ""
             }
            },
            "type": "scattermapbox"
           }
          ],
          "scatterpolar": [
           {
            "marker": {
             "colorbar": {
              "outlinewidth": 0,
              "ticks": ""
             }
            },
            "type": "scatterpolar"
           }
          ],
          "scatterpolargl": [
           {
            "marker": {
             "colorbar": {
              "outlinewidth": 0,
              "ticks": ""
             }
            },
            "type": "scatterpolargl"
           }
          ],
          "scatterternary": [
           {
            "marker": {
             "colorbar": {
              "outlinewidth": 0,
              "ticks": ""
             }
            },
            "type": "scatterternary"
           }
          ],
          "surface": [
           {
            "colorbar": {
             "outlinewidth": 0,
             "ticks": ""
            },
            "colorscale": [
             [
              0,
              "#0d0887"
             ],
             [
              0.1111111111111111,
              "#46039f"
             ],
             [
              0.2222222222222222,
              "#7201a8"
             ],
             [
              0.3333333333333333,
              "#9c179e"
             ],
             [
              0.4444444444444444,
              "#bd3786"
             ],
             [
              0.5555555555555556,
              "#d8576b"
             ],
             [
              0.6666666666666666,
              "#ed7953"
             ],
             [
              0.7777777777777778,
              "#fb9f3a"
             ],
             [
              0.8888888888888888,
              "#fdca26"
             ],
             [
              1,
              "#f0f921"
             ]
            ],
            "type": "surface"
           }
          ],
          "table": [
           {
            "cells": {
             "fill": {
              "color": "#EBF0F8"
             },
             "line": {
              "color": "white"
             }
            },
            "header": {
             "fill": {
              "color": "#C8D4E3"
             },
             "line": {
              "color": "white"
             }
            },
            "type": "table"
           }
          ]
         },
         "layout": {
          "annotationdefaults": {
           "arrowcolor": "#2a3f5f",
           "arrowhead": 0,
           "arrowwidth": 1
          },
          "autotypenumbers": "strict",
          "coloraxis": {
           "colorbar": {
            "outlinewidth": 0,
            "ticks": ""
           }
          },
          "colorscale": {
           "diverging": [
            [
             0,
             "#8e0152"
            ],
            [
             0.1,
             "#c51b7d"
            ],
            [
             0.2,
             "#de77ae"
            ],
            [
             0.3,
             "#f1b6da"
            ],
            [
             0.4,
             "#fde0ef"
            ],
            [
             0.5,
             "#f7f7f7"
            ],
            [
             0.6,
             "#e6f5d0"
            ],
            [
             0.7,
             "#b8e186"
            ],
            [
             0.8,
             "#7fbc41"
            ],
            [
             0.9,
             "#4d9221"
            ],
            [
             1,
             "#276419"
            ]
           ],
           "sequential": [
            [
             0,
             "#0d0887"
            ],
            [
             0.1111111111111111,
             "#46039f"
            ],
            [
             0.2222222222222222,
             "#7201a8"
            ],
            [
             0.3333333333333333,
             "#9c179e"
            ],
            [
             0.4444444444444444,
             "#bd3786"
            ],
            [
             0.5555555555555556,
             "#d8576b"
            ],
            [
             0.6666666666666666,
             "#ed7953"
            ],
            [
             0.7777777777777778,
             "#fb9f3a"
            ],
            [
             0.8888888888888888,
             "#fdca26"
            ],
            [
             1,
             "#f0f921"
            ]
           ],
           "sequentialminus": [
            [
             0,
             "#0d0887"
            ],
            [
             0.1111111111111111,
             "#46039f"
            ],
            [
             0.2222222222222222,
             "#7201a8"
            ],
            [
             0.3333333333333333,
             "#9c179e"
            ],
            [
             0.4444444444444444,
             "#bd3786"
            ],
            [
             0.5555555555555556,
             "#d8576b"
            ],
            [
             0.6666666666666666,
             "#ed7953"
            ],
            [
             0.7777777777777778,
             "#fb9f3a"
            ],
            [
             0.8888888888888888,
             "#fdca26"
            ],
            [
             1,
             "#f0f921"
            ]
           ]
          },
          "colorway": [
           "#636efa",
           "#EF553B",
           "#00cc96",
           "#ab63fa",
           "#FFA15A",
           "#19d3f3",
           "#FF6692",
           "#B6E880",
           "#FF97FF",
           "#FECB52"
          ],
          "font": {
           "color": "#2a3f5f"
          },
          "geo": {
           "bgcolor": "white",
           "lakecolor": "white",
           "landcolor": "#E5ECF6",
           "showlakes": true,
           "showland": true,
           "subunitcolor": "white"
          },
          "hoverlabel": {
           "align": "left"
          },
          "hovermode": "closest",
          "mapbox": {
           "style": "light"
          },
          "paper_bgcolor": "white",
          "plot_bgcolor": "#E5ECF6",
          "polar": {
           "angularaxis": {
            "gridcolor": "white",
            "linecolor": "white",
            "ticks": ""
           },
           "bgcolor": "#E5ECF6",
           "radialaxis": {
            "gridcolor": "white",
            "linecolor": "white",
            "ticks": ""
           }
          },
          "scene": {
           "xaxis": {
            "backgroundcolor": "#E5ECF6",
            "gridcolor": "white",
            "gridwidth": 2,
            "linecolor": "white",
            "showbackground": true,
            "ticks": "",
            "zerolinecolor": "white"
           },
           "yaxis": {
            "backgroundcolor": "#E5ECF6",
            "gridcolor": "white",
            "gridwidth": 2,
            "linecolor": "white",
            "showbackground": true,
            "ticks": "",
            "zerolinecolor": "white"
           },
           "zaxis": {
            "backgroundcolor": "#E5ECF6",
            "gridcolor": "white",
            "gridwidth": 2,
            "linecolor": "white",
            "showbackground": true,
            "ticks": "",
            "zerolinecolor": "white"
           }
          },
          "shapedefaults": {
           "line": {
            "color": "#2a3f5f"
           }
          },
          "ternary": {
           "aaxis": {
            "gridcolor": "white",
            "linecolor": "white",
            "ticks": ""
           },
           "baxis": {
            "gridcolor": "white",
            "linecolor": "white",
            "ticks": ""
           },
           "bgcolor": "#E5ECF6",
           "caxis": {
            "gridcolor": "white",
            "linecolor": "white",
            "ticks": ""
           }
          },
          "title": {
           "x": 0.05
          },
          "xaxis": {
           "automargin": true,
           "gridcolor": "white",
           "linecolor": "white",
           "ticks": "",
           "title": {
            "standoff": 15
           },
           "zerolinecolor": "white",
           "zerolinewidth": 2
          },
          "yaxis": {
           "automargin": true,
           "gridcolor": "white",
           "linecolor": "white",
           "ticks": "",
           "title": {
            "standoff": 15
           },
           "zerolinecolor": "white",
           "zerolinewidth": 2
          }
         }
        },
        "width": 1000,
        "xaxis": {
         "dtick": 1,
         "gridcolor": "rgb(0, 0, 0)",
         "side": "top",
         "ticks": ""
        },
        "yaxis": {
         "dtick": 1,
         "ticks": "",
         "ticksuffix": "  "
        }
       }
      }
     },
     "metadata": {}
    }
   ],
   "source": [
    "# Heat Map to show correlation between different features\n",
    "import plotly.figure_factory as ff\n",
    "from plotly.offline import iplot\n",
    "corrs=df_train.corr()\n",
    "# Plotting Heatmap to know about Correlation\n",
    "figure=ff.create_annotated_heatmap(z=corrs.values,x=list(corrs.columns),\n",
    "    y=list(corrs.index),\n",
    "    annotation_text=corrs.round(2).values,\n",
    "    showscale=True)\n",
    "figure.layout.margin = dict(l=200, t=200)\n",
    "figure.layout.height = 800\n",
    "figure.layout.width = 1000\n",
    "iplot(figure)"
   ]
  },
  {
   "cell_type": "code",
   "execution_count": 11,
   "metadata": {},
   "outputs": [],
   "source": [
    "import seaborn as sns\n",
    "# Pair Plot between each feature\n",
    "g = sns.PairGrid(df_train, diag_sharey=False)\n",
    "g.map_diag(sns.kdeplot)\n",
    "g.map_offdiag(sns.scatterplot)\n",
    "plt.show()"
   ]
  },
  {
   "cell_type": "code",
   "execution_count": null,
   "metadata": {},
   "outputs": [],
   "source": []
  }
 ],
 "metadata": {
  "kernelspec": {
   "display_name": "Python 3",
   "language": "python",
   "name": "python3"
  },
  "language_info": {
   "codemirror_mode": {
    "name": "ipython",
    "version": 3
   },
   "file_extension": ".py",
   "mimetype": "text/x-python",
   "name": "python",
   "nbconvert_exporter": "python",
   "pygments_lexer": "ipython3",
   "version": "3.7.4-final"
  }
 },
 "nbformat": 4,
 "nbformat_minor": 2
}